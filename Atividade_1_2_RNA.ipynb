{
  "nbformat": 4,
  "nbformat_minor": 0,
  "metadata": {
    "colab": {
      "name": "Atividade 1.2  RNA",
      "provenance": [],
      "collapsed_sections": [],
      "include_colab_link": true
    },
    "kernelspec": {
      "name": "python3",
      "display_name": "Python 3"
    },
    "language_info": {
      "name": "python"
    }
  },
  "cells": [
    {
      "cell_type": "markdown",
      "metadata": {
        "id": "view-in-github",
        "colab_type": "text"
      },
      "source": [
        "<a href=\"https://colab.research.google.com/github/AllanHigorLP/Atividade-Avaliativa-1.2-RNA/blob/main/Atividade_1_2_RNA.ipynb\" target=\"_parent\"><img src=\"https://colab.research.google.com/assets/colab-badge.svg\" alt=\"Open In Colab\"/></a>"
      ]
    },
    {
      "cell_type": "markdown",
      "metadata": {
        "id": "2HK28AcSCGYi"
      },
      "source": [
        "# 2.1 Visão Geral dos Casos Confirmados"
      ]
    },
    {
      "cell_type": "markdown",
      "metadata": {
        "id": "fYjyiV_2CKis"
      },
      "source": [
        "**Importando as bibliotecas**"
      ]
    },
    {
      "cell_type": "code",
      "metadata": {
        "id": "BFL_E6Jm_b5m"
      },
      "source": [
        "import numpy as np # linear algebra\n",
        "import pandas as pd # data processing, CSV file I/O (e.g. pd.read_csv)\n",
        "import seaborn as sns\n",
        "import matplotlib.pyplot as plt\n",
        "from sklearn.model_selection import train_test_split #to split the dataset for training and testing\n",
        "from sklearn import metrics\n",
        "import unicodedata"
      ],
      "execution_count": null,
      "outputs": []
    },
    {
      "cell_type": "markdown",
      "metadata": {
        "id": "KskstCFNCNRg"
      },
      "source": [
        "**Carregando o dataset**"
      ]
    },
    {
      "cell_type": "code",
      "metadata": {
        "id": "NXnEuUgpAwPE"
      },
      "source": [
        "df = pd.read_csv(\"https://covid19.manaus.am.gov.br/wp-content/uploads/Manaus.csv\", delimiter=';', skiprows=0, low_memory=False)"
      ],
      "execution_count": null,
      "outputs": []
    },
    {
      "cell_type": "code",
      "metadata": {
        "colab": {
          "base_uri": "https://localhost:8080/",
          "height": 326
        },
        "id": "V237cAR2CSjg",
        "outputId": "0e722b9a-a91c-4359-c26a-652ae084fed4"
      },
      "source": [
        "df.head()"
      ],
      "execution_count": null,
      "outputs": [
        {
          "output_type": "execute_result",
          "data": {
            "text/html": [
              "<div>\n",
              "<style scoped>\n",
              "    .dataframe tbody tr th:only-of-type {\n",
              "        vertical-align: middle;\n",
              "    }\n",
              "\n",
              "    .dataframe tbody tr th {\n",
              "        vertical-align: top;\n",
              "    }\n",
              "\n",
              "    .dataframe thead th {\n",
              "        text-align: right;\n",
              "    }\n",
              "</style>\n",
              "<table border=\"1\" class=\"dataframe\">\n",
              "  <thead>\n",
              "    <tr style=\"text-align: right;\">\n",
              "      <th></th>\n",
              "      <th>_dt_evolucao</th>\n",
              "      <th>_dt_notificacao</th>\n",
              "      <th>_dt_sintomas</th>\n",
              "      <th>_classificacao</th>\n",
              "      <th>_conclusao</th>\n",
              "      <th>_origem</th>\n",
              "      <th>_comorb_cardio</th>\n",
              "      <th>_comorb_cromossomica</th>\n",
              "      <th>_comorb_diabetes</th>\n",
              "      <th>_comorb_hemato</th>\n",
              "      <th>_comorb_hepatica</th>\n",
              "      <th>_comorb_imuno</th>\n",
              "      <th>_comorb_neurologica</th>\n",
              "      <th>_comorb_obessidade</th>\n",
              "      <th>_comorb_renal</th>\n",
              "      <th>_comorb_respiratoria</th>\n",
              "      <th>_criterio</th>\n",
              "      <th>_etnia</th>\n",
              "      <th>_evolução</th>\n",
              "      <th>_idade</th>\n",
              "      <th>_faixa etária</th>\n",
              "      <th>_gestante</th>\n",
              "      <th>_profiss_saude</th>\n",
              "      <th>_raca</th>\n",
              "      <th>_se_notificacao</th>\n",
              "      <th>_sexo</th>\n",
              "      <th>_sintoma_dispneia</th>\n",
              "      <th>_sintoma_febre</th>\n",
              "      <th>_sintoma_garganta</th>\n",
              "      <th>_sintoma_tosse</th>\n",
              "      <th>_sintoma_outros</th>\n",
              "      <th>_srag</th>\n",
              "      <th>_teste_anticorpo</th>\n",
              "      <th>_teste_antigeno</th>\n",
              "      <th>_teste_pcr</th>\n",
              "      <th>_bairro</th>\n",
              "      <th>_bairro_mapa</th>\n",
              "      <th>_distrito</th>\n",
              "      <th>_taxa</th>\n",
              "    </tr>\n",
              "  </thead>\n",
              "  <tbody>\n",
              "    <tr>\n",
              "      <th>0</th>\n",
              "      <td>25/01/2020 00:00</td>\n",
              "      <td>03/01/2020 00:00</td>\n",
              "      <td>01/01/2020 00:00</td>\n",
              "      <td>Descartado</td>\n",
              "      <td>Recuperado</td>\n",
              "      <td>SIVEP,</td>\n",
              "      <td>NaN</td>\n",
              "      <td>NaN</td>\n",
              "      <td>NaN</td>\n",
              "      <td>NaN</td>\n",
              "      <td>NaN</td>\n",
              "      <td>NaN</td>\n",
              "      <td>NaN</td>\n",
              "      <td>NaN</td>\n",
              "      <td>NaN</td>\n",
              "      <td>NaN</td>\n",
              "      <td>Laboratorial</td>\n",
              "      <td>NaN</td>\n",
              "      <td>Internado</td>\n",
              "      <td>4.0</td>\n",
              "      <td>1a - 4a</td>\n",
              "      <td>NaN</td>\n",
              "      <td>NaN</td>\n",
              "      <td>Parda</td>\n",
              "      <td>1.0</td>\n",
              "      <td>M</td>\n",
              "      <td>Sim</td>\n",
              "      <td>Sim</td>\n",
              "      <td>Sim</td>\n",
              "      <td>Sim</td>\n",
              "      <td>Sim</td>\n",
              "      <td>SRAG não especificado</td>\n",
              "      <td>NaN</td>\n",
              "      <td>NaN</td>\n",
              "      <td>NaN</td>\n",
              "      <td>TARUMA</td>\n",
              "      <td>TARUMÃ</td>\n",
              "      <td>OESTE</td>\n",
              "      <td>0,243042897</td>\n",
              "    </tr>\n",
              "    <tr>\n",
              "      <th>1</th>\n",
              "      <td>03/01/2020 00:00</td>\n",
              "      <td>03/01/2020 00:00</td>\n",
              "      <td>01/01/2020 00:00</td>\n",
              "      <td>Descartado</td>\n",
              "      <td>Óbito</td>\n",
              "      <td>SIVEP,</td>\n",
              "      <td>NaN</td>\n",
              "      <td>NaN</td>\n",
              "      <td>NaN</td>\n",
              "      <td>NaN</td>\n",
              "      <td>NaN</td>\n",
              "      <td>NaN</td>\n",
              "      <td>NaN</td>\n",
              "      <td>NaN</td>\n",
              "      <td>NaN</td>\n",
              "      <td>NaN</td>\n",
              "      <td>Laboratorial</td>\n",
              "      <td>NaN</td>\n",
              "      <td>Internado</td>\n",
              "      <td>26.0</td>\n",
              "      <td>20a - 29a</td>\n",
              "      <td>NaN</td>\n",
              "      <td>NaN</td>\n",
              "      <td>Parda</td>\n",
              "      <td>1.0</td>\n",
              "      <td>F</td>\n",
              "      <td>Sim</td>\n",
              "      <td>Sim</td>\n",
              "      <td>Sim</td>\n",
              "      <td>Sim</td>\n",
              "      <td>Sim</td>\n",
              "      <td>Influenza B</td>\n",
              "      <td>NaN</td>\n",
              "      <td>NaN</td>\n",
              "      <td>NaN</td>\n",
              "      <td>TARUMA-ACU</td>\n",
              "      <td>TARUMÃ-AÇÚ</td>\n",
              "      <td>OESTE</td>\n",
              "      <td>0,684931507</td>\n",
              "    </tr>\n",
              "    <tr>\n",
              "      <th>2</th>\n",
              "      <td>05/01/2020 00:00</td>\n",
              "      <td>03/01/2020 00:00</td>\n",
              "      <td>03/01/2020 00:00</td>\n",
              "      <td>Descartado</td>\n",
              "      <td>Óbito</td>\n",
              "      <td>SIVEP,</td>\n",
              "      <td>NaN</td>\n",
              "      <td>NaN</td>\n",
              "      <td>NaN</td>\n",
              "      <td>NaN</td>\n",
              "      <td>NaN</td>\n",
              "      <td>NaN</td>\n",
              "      <td>NaN</td>\n",
              "      <td>NaN</td>\n",
              "      <td>NaN</td>\n",
              "      <td>NaN</td>\n",
              "      <td>Laboratorial</td>\n",
              "      <td>NaN</td>\n",
              "      <td>Internado em UTI</td>\n",
              "      <td>27.0</td>\n",
              "      <td>20a - 29a</td>\n",
              "      <td>NaN</td>\n",
              "      <td>NaN</td>\n",
              "      <td>Parda</td>\n",
              "      <td>1.0</td>\n",
              "      <td>M</td>\n",
              "      <td>Sim</td>\n",
              "      <td>Sim</td>\n",
              "      <td>Sim</td>\n",
              "      <td>Sim</td>\n",
              "      <td>Sim</td>\n",
              "      <td>SRAG não especificado</td>\n",
              "      <td>NaN</td>\n",
              "      <td>NaN</td>\n",
              "      <td>NaN</td>\n",
              "      <td>JORGE TEIXEIRA</td>\n",
              "      <td>JORGE TEIXEIRA</td>\n",
              "      <td>LESTE</td>\n",
              "      <td>0,073137374</td>\n",
              "    </tr>\n",
              "    <tr>\n",
              "      <th>3</th>\n",
              "      <td>16/01/2020 00:00</td>\n",
              "      <td>08/01/2020 00:00</td>\n",
              "      <td>04/01/2020 00:00</td>\n",
              "      <td>Descartado</td>\n",
              "      <td>Óbito</td>\n",
              "      <td>SIVEP,</td>\n",
              "      <td>NaN</td>\n",
              "      <td>NaN</td>\n",
              "      <td>NaN</td>\n",
              "      <td>NaN</td>\n",
              "      <td>NaN</td>\n",
              "      <td>NaN</td>\n",
              "      <td>NaN</td>\n",
              "      <td>NaN</td>\n",
              "      <td>NaN</td>\n",
              "      <td>NaN</td>\n",
              "      <td>Laboratorial</td>\n",
              "      <td>NaN</td>\n",
              "      <td>Internado em UTI</td>\n",
              "      <td>94.0</td>\n",
              "      <td>80a ou +</td>\n",
              "      <td>NaN</td>\n",
              "      <td>NaN</td>\n",
              "      <td>Parda</td>\n",
              "      <td>2.0</td>\n",
              "      <td>M</td>\n",
              "      <td>Sim</td>\n",
              "      <td>Sim</td>\n",
              "      <td>Sim</td>\n",
              "      <td>Sim</td>\n",
              "      <td>Sim</td>\n",
              "      <td>SRAG não especificado</td>\n",
              "      <td>NaN</td>\n",
              "      <td>NaN</td>\n",
              "      <td>NaN</td>\n",
              "      <td>FLORES</td>\n",
              "      <td>FLORES</td>\n",
              "      <td>SUL</td>\n",
              "      <td>0,198306463</td>\n",
              "    </tr>\n",
              "    <tr>\n",
              "      <th>4</th>\n",
              "      <td>11/01/2020 00:00</td>\n",
              "      <td>08/01/2020 00:00</td>\n",
              "      <td>05/01/2020 00:00</td>\n",
              "      <td>Descartado</td>\n",
              "      <td>Recuperado</td>\n",
              "      <td>SIVEP,</td>\n",
              "      <td>NaN</td>\n",
              "      <td>NaN</td>\n",
              "      <td>NaN</td>\n",
              "      <td>NaN</td>\n",
              "      <td>NaN</td>\n",
              "      <td>NaN</td>\n",
              "      <td>NaN</td>\n",
              "      <td>NaN</td>\n",
              "      <td>NaN</td>\n",
              "      <td>NaN</td>\n",
              "      <td>Laboratorial</td>\n",
              "      <td>NaN</td>\n",
              "      <td>Internado</td>\n",
              "      <td>0.0</td>\n",
              "      <td>&lt; 1a</td>\n",
              "      <td>NaN</td>\n",
              "      <td>NaN</td>\n",
              "      <td>Parda</td>\n",
              "      <td>2.0</td>\n",
              "      <td>M</td>\n",
              "      <td>Sim</td>\n",
              "      <td>Sim</td>\n",
              "      <td>NaN</td>\n",
              "      <td>Sim</td>\n",
              "      <td>Sim</td>\n",
              "      <td>SRAG não especificado</td>\n",
              "      <td>NaN</td>\n",
              "      <td>NaN</td>\n",
              "      <td>NaN</td>\n",
              "      <td>CIDADE DE DEUS</td>\n",
              "      <td>CIDADE DE DEUS</td>\n",
              "      <td>NORTE</td>\n",
              "      <td>0,117699678</td>\n",
              "    </tr>\n",
              "  </tbody>\n",
              "</table>\n",
              "</div>"
            ],
            "text/plain": [
              "       _dt_evolucao   _dt_notificacao  ... _distrito        _taxa\n",
              "0  25/01/2020 00:00  03/01/2020 00:00  ...     OESTE  0,243042897\n",
              "1  03/01/2020 00:00  03/01/2020 00:00  ...     OESTE  0,684931507\n",
              "2  05/01/2020 00:00  03/01/2020 00:00  ...     LESTE  0,073137374\n",
              "3  16/01/2020 00:00  08/01/2020 00:00  ...       SUL  0,198306463\n",
              "4  11/01/2020 00:00  08/01/2020 00:00  ...     NORTE  0,117699678\n",
              "\n",
              "[5 rows x 39 columns]"
            ]
          },
          "metadata": {},
          "execution_count": 6
        }
      ]
    },
    {
      "cell_type": "markdown",
      "metadata": {
        "id": "VTvd9bdpCnvF"
      },
      "source": [
        "### 1 - Quantos Atributos descrevem cada exemplo? Quais são eles?"
      ]
    },
    {
      "cell_type": "code",
      "metadata": {
        "colab": {
          "base_uri": "https://localhost:8080/"
        },
        "id": "9Ix69GKXCrph",
        "outputId": "cdaa4d2d-407b-44ae-87da-738643557ac6"
      },
      "source": [
        "df.columns\n"
      ],
      "execution_count": null,
      "outputs": [
        {
          "output_type": "execute_result",
          "data": {
            "text/plain": [
              "Index(['_dt_evolucao', '_dt_notificacao', '_dt_sintomas', '_classificacao',\n",
              "       '_conclusao', '_origem', '_comorb_cardio', '_comorb_cromossomica',\n",
              "       '_comorb_diabetes', '_comorb_hemato', '_comorb_hepatica',\n",
              "       '_comorb_imuno', '_comorb_neurologica', '_comorb_obessidade',\n",
              "       '_comorb_renal', '_comorb_respiratoria', '_criterio', '_etnia',\n",
              "       '_evolução', '_idade', '_faixa etária', '_gestante', '_profiss_saude',\n",
              "       '_raca', '_se_notificacao', '_sexo', '_sintoma_dispneia',\n",
              "       '_sintoma_febre', '_sintoma_garganta', '_sintoma_tosse',\n",
              "       '_sintoma_outros', '_srag', '_teste_anticorpo', '_teste_antigeno',\n",
              "       '_teste_pcr', '_bairro', '_bairro_mapa', '_distrito', '_taxa'],\n",
              "      dtype='object')"
            ]
          },
          "metadata": {},
          "execution_count": 7
        }
      ]
    },
    {
      "cell_type": "markdown",
      "metadata": {
        "id": "2PzyY65MC1Hb"
      },
      "source": [
        "### 2 - Quantos casos confirmados há em Manaus, cumulativamente?"
      ]
    },
    {
      "cell_type": "code",
      "metadata": {
        "colab": {
          "base_uri": "https://localhost:8080/",
          "height": 214
        },
        "id": "4JYBUBqyC1wt",
        "outputId": "624df732-e7a5-480b-c297-80b86c211c1f"
      },
      "source": [
        "casosConfirmados = df.copy()\n",
        "casosConfirmados = df.drop(df.loc[df['_classificacao']=='DESCARTADO'].index, inplace=True)\n",
        "casosConfirmados = df.drop(df.loc[df['_classificacao']=='EM ANALISE'].index, inplace=True)\n",
        "cf = casosConfirmados['_classificacao'].value_counts()\n",
        "print(\"Casos confirmados: {}\".format(casosConfirmados[1]))"
      ],
      "execution_count": null,
      "outputs": [
        {
          "output_type": "error",
          "ename": "TypeError",
          "evalue": "ignored",
          "traceback": [
            "\u001b[0;31m---------------------------------------------------------------------------\u001b[0m",
            "\u001b[0;31mTypeError\u001b[0m                                 Traceback (most recent call last)",
            "\u001b[0;32m<ipython-input-9-8205ae0bd759>\u001b[0m in \u001b[0;36m<module>\u001b[0;34m()\u001b[0m\n\u001b[1;32m      2\u001b[0m \u001b[0mcasosConfirmados\u001b[0m \u001b[0;34m=\u001b[0m \u001b[0mdf\u001b[0m\u001b[0;34m.\u001b[0m\u001b[0mdrop\u001b[0m\u001b[0;34m(\u001b[0m\u001b[0mdf\u001b[0m\u001b[0;34m.\u001b[0m\u001b[0mloc\u001b[0m\u001b[0;34m[\u001b[0m\u001b[0mdf\u001b[0m\u001b[0;34m[\u001b[0m\u001b[0;34m'_classificacao'\u001b[0m\u001b[0;34m]\u001b[0m\u001b[0;34m==\u001b[0m\u001b[0;34m'DESCARTADO'\u001b[0m\u001b[0;34m]\u001b[0m\u001b[0;34m.\u001b[0m\u001b[0mindex\u001b[0m\u001b[0;34m,\u001b[0m \u001b[0minplace\u001b[0m\u001b[0;34m=\u001b[0m\u001b[0;32mTrue\u001b[0m\u001b[0;34m)\u001b[0m\u001b[0;34m\u001b[0m\u001b[0;34m\u001b[0m\u001b[0m\n\u001b[1;32m      3\u001b[0m \u001b[0mcasosConfirmados\u001b[0m \u001b[0;34m=\u001b[0m \u001b[0mdf\u001b[0m\u001b[0;34m.\u001b[0m\u001b[0mdrop\u001b[0m\u001b[0;34m(\u001b[0m\u001b[0mdf\u001b[0m\u001b[0;34m.\u001b[0m\u001b[0mloc\u001b[0m\u001b[0;34m[\u001b[0m\u001b[0mdf\u001b[0m\u001b[0;34m[\u001b[0m\u001b[0;34m'_classificacao'\u001b[0m\u001b[0;34m]\u001b[0m\u001b[0;34m==\u001b[0m\u001b[0;34m'EM ANALISE'\u001b[0m\u001b[0;34m]\u001b[0m\u001b[0;34m.\u001b[0m\u001b[0mindex\u001b[0m\u001b[0;34m,\u001b[0m \u001b[0minplace\u001b[0m\u001b[0;34m=\u001b[0m\u001b[0;32mTrue\u001b[0m\u001b[0;34m)\u001b[0m\u001b[0;34m\u001b[0m\u001b[0;34m\u001b[0m\u001b[0m\n\u001b[0;32m----> 4\u001b[0;31m \u001b[0mcf\u001b[0m \u001b[0;34m=\u001b[0m \u001b[0mcasosConfirmados\u001b[0m\u001b[0;34m[\u001b[0m\u001b[0;34m'_classificacao'\u001b[0m\u001b[0;34m]\u001b[0m\u001b[0;34m.\u001b[0m\u001b[0mvalue_counts\u001b[0m\u001b[0;34m(\u001b[0m\u001b[0;34m)\u001b[0m\u001b[0;34m\u001b[0m\u001b[0;34m\u001b[0m\u001b[0m\n\u001b[0m\u001b[1;32m      5\u001b[0m \u001b[0mprint\u001b[0m\u001b[0;34m(\u001b[0m\u001b[0;34m\"Casos confirmados: {}\"\u001b[0m\u001b[0;34m.\u001b[0m\u001b[0mformat\u001b[0m\u001b[0;34m(\u001b[0m\u001b[0mcasosConfirmados\u001b[0m\u001b[0;34m[\u001b[0m\u001b[0;36m1\u001b[0m\u001b[0;34m]\u001b[0m\u001b[0;34m)\u001b[0m\u001b[0;34m)\u001b[0m\u001b[0;34m\u001b[0m\u001b[0;34m\u001b[0m\u001b[0m\n",
            "\u001b[0;31mTypeError\u001b[0m: 'NoneType' object is not subscriptable"
          ]
        }
      ]
    },
    {
      "cell_type": "markdown",
      "metadata": {
        "id": "DZnr90K2DBuh"
      },
      "source": [
        "### 3- A qual período de tempo a base de dados se refere, isto é, qual o registro mais antigo e qual o mais recente? Leve em conta a data de notificação."
      ]
    },
    {
      "cell_type": "code",
      "metadata": {
        "colab": {
          "base_uri": "https://localhost:8080/"
        },
        "id": "1skAzLlrDCYv",
        "outputId": "129a278b-5d17-431c-d7c2-427af5f10eb3"
      },
      "source": [
        "df10 = df.copy()\n",
        "df10._dt_notificacao = pd.to_datetime(df10._dt_notificacao) \n",
        "df10 = df10._dt_notificacao.dropna()\n",
        "df10 = df10.sort_values()\n",
        "df10 = df10.reset_index()\n",
        "df10._dt_notificacao = df10['_dt_notificacao'].dt.strftime('%d/%m/%Y')\n",
        "tam = len(df10)\n",
        "print(\"Registro mais antigo:\",df10._dt_notificacao.values[0])\n",
        "print(\"Registro de mais recente:\",df10._dt_notificacao.values[tam-1])"
      ],
      "execution_count": null,
      "outputs": [
        {
          "output_type": "stream",
          "name": "stdout",
          "text": [
            "Registro mais antigo: 01/01/2020\n",
            "Registro de mais recente: 29/12/2020\n"
          ]
        }
      ]
    },
    {
      "cell_type": "markdown",
      "metadata": {
        "id": "yej0P_t4EDZN"
      },
      "source": [
        "### Limpeza dos Dados"
      ]
    },
    {
      "cell_type": "markdown",
      "metadata": {
        "id": "QghyZX9zEM_O"
      },
      "source": [
        "#### Verificando se há alguma inconsistência no conjunto de dados"
      ]
    },
    {
      "cell_type": "code",
      "metadata": {
        "id": "IB15nNt9EYzf"
      },
      "source": [
        "df.drop(columns=['_comorb_cardio', '_comorb_cromossomica', '_comorb_diabetes', '_comorb_hemato', '_comorb_hepatica', '_comorb_imuno',\t'_comorb_neurologica',\t'_comorb_obessidade',\t'_comorb_renal',\t'_comorb_respiratoria', '_gestante',\t'_profiss_saude',\t'_raca', '_sintoma_dispneia',\t'_sintoma_febre',\t'_sintoma_garganta',\t'_sintoma_tosse',\t'_sintoma_outros','_etnia','_dt_evolucao','_dt_sintomas','_origem',\t'_criterio','_evolução','_bairro_mapa',\t'_distrito','_srag','_se_notificacao','_faixa etária', '_taxa'], inplace=True)"
      ],
      "execution_count": null,
      "outputs": []
    },
    {
      "cell_type": "code",
      "metadata": {
        "colab": {
          "base_uri": "https://localhost:8080/"
        },
        "id": "EUkX1KvSEw5d",
        "outputId": "883d6406-1002-4d34-fd2b-c7ddde3dd74e"
      },
      "source": [
        "df.info()"
      ],
      "execution_count": null,
      "outputs": [
        {
          "output_type": "stream",
          "name": "stdout",
          "text": [
            "<class 'pandas.core.frame.DataFrame'>\n",
            "RangeIndex: 243984 entries, 0 to 243983\n",
            "Data columns (total 9 columns):\n",
            " #   Column            Non-Null Count   Dtype  \n",
            "---  ------            --------------   -----  \n",
            " 0   _dt_notificacao   243913 non-null  object \n",
            " 1   _classificacao    243984 non-null  object \n",
            " 2   _conclusao        180928 non-null  object \n",
            " 3   _idade            243913 non-null  float64\n",
            " 4   _sexo             243497 non-null  object \n",
            " 5   _teste_anticorpo  138919 non-null  float64\n",
            " 6   _teste_antigeno   23196 non-null   float64\n",
            " 7   _teste_pcr        58306 non-null   float64\n",
            " 8   _bairro           240419 non-null  object \n",
            "dtypes: float64(4), object(5)\n",
            "memory usage: 16.8+ MB\n"
          ]
        }
      ]
    },
    {
      "cell_type": "code",
      "metadata": {
        "id": "LPbHlEroE2dI",
        "colab": {
          "base_uri": "https://localhost:8080/",
          "height": 419
        },
        "outputId": "cfc372ab-6e4c-46fa-fe6a-154e68d1f77b"
      },
      "source": [
        "df.head(-1)"
      ],
      "execution_count": null,
      "outputs": [
        {
          "output_type": "execute_result",
          "data": {
            "text/html": [
              "<div>\n",
              "<style scoped>\n",
              "    .dataframe tbody tr th:only-of-type {\n",
              "        vertical-align: middle;\n",
              "    }\n",
              "\n",
              "    .dataframe tbody tr th {\n",
              "        vertical-align: top;\n",
              "    }\n",
              "\n",
              "    .dataframe thead th {\n",
              "        text-align: right;\n",
              "    }\n",
              "</style>\n",
              "<table border=\"1\" class=\"dataframe\">\n",
              "  <thead>\n",
              "    <tr style=\"text-align: right;\">\n",
              "      <th></th>\n",
              "      <th>_dt_notificacao</th>\n",
              "      <th>_classificacao</th>\n",
              "      <th>_conclusao</th>\n",
              "      <th>_idade</th>\n",
              "      <th>_sexo</th>\n",
              "      <th>_teste_anticorpo</th>\n",
              "      <th>_teste_antigeno</th>\n",
              "      <th>_teste_pcr</th>\n",
              "      <th>_bairro</th>\n",
              "    </tr>\n",
              "  </thead>\n",
              "  <tbody>\n",
              "    <tr>\n",
              "      <th>0</th>\n",
              "      <td>03/01/2020 00:00</td>\n",
              "      <td>Descartado</td>\n",
              "      <td>Recuperado</td>\n",
              "      <td>4.0</td>\n",
              "      <td>M</td>\n",
              "      <td>NaN</td>\n",
              "      <td>NaN</td>\n",
              "      <td>NaN</td>\n",
              "      <td>TARUMA</td>\n",
              "    </tr>\n",
              "    <tr>\n",
              "      <th>1</th>\n",
              "      <td>03/01/2020 00:00</td>\n",
              "      <td>Descartado</td>\n",
              "      <td>Óbito</td>\n",
              "      <td>26.0</td>\n",
              "      <td>F</td>\n",
              "      <td>NaN</td>\n",
              "      <td>NaN</td>\n",
              "      <td>NaN</td>\n",
              "      <td>TARUMA-ACU</td>\n",
              "    </tr>\n",
              "    <tr>\n",
              "      <th>2</th>\n",
              "      <td>03/01/2020 00:00</td>\n",
              "      <td>Descartado</td>\n",
              "      <td>Óbito</td>\n",
              "      <td>27.0</td>\n",
              "      <td>M</td>\n",
              "      <td>NaN</td>\n",
              "      <td>NaN</td>\n",
              "      <td>NaN</td>\n",
              "      <td>JORGE TEIXEIRA</td>\n",
              "    </tr>\n",
              "    <tr>\n",
              "      <th>3</th>\n",
              "      <td>08/01/2020 00:00</td>\n",
              "      <td>Descartado</td>\n",
              "      <td>Óbito</td>\n",
              "      <td>94.0</td>\n",
              "      <td>M</td>\n",
              "      <td>NaN</td>\n",
              "      <td>NaN</td>\n",
              "      <td>NaN</td>\n",
              "      <td>FLORES</td>\n",
              "    </tr>\n",
              "    <tr>\n",
              "      <th>4</th>\n",
              "      <td>08/01/2020 00:00</td>\n",
              "      <td>Descartado</td>\n",
              "      <td>Recuperado</td>\n",
              "      <td>0.0</td>\n",
              "      <td>M</td>\n",
              "      <td>NaN</td>\n",
              "      <td>NaN</td>\n",
              "      <td>NaN</td>\n",
              "      <td>CIDADE DE DEUS</td>\n",
              "    </tr>\n",
              "    <tr>\n",
              "      <th>...</th>\n",
              "      <td>...</td>\n",
              "      <td>...</td>\n",
              "      <td>...</td>\n",
              "      <td>...</td>\n",
              "      <td>...</td>\n",
              "      <td>...</td>\n",
              "      <td>...</td>\n",
              "      <td>...</td>\n",
              "      <td>...</td>\n",
              "    </tr>\n",
              "    <tr>\n",
              "      <th>243978</th>\n",
              "      <td>20/04/2020 00:00</td>\n",
              "      <td>Descartado</td>\n",
              "      <td>Recuperado</td>\n",
              "      <td>84.0</td>\n",
              "      <td>F</td>\n",
              "      <td>NaN</td>\n",
              "      <td>NaN</td>\n",
              "      <td>1.0</td>\n",
              "      <td>SANTO ANTONIO</td>\n",
              "    </tr>\n",
              "    <tr>\n",
              "      <th>243979</th>\n",
              "      <td>20/04/2020 00:00</td>\n",
              "      <td>Confirmado</td>\n",
              "      <td>NaN</td>\n",
              "      <td>50.0</td>\n",
              "      <td>F</td>\n",
              "      <td>NaN</td>\n",
              "      <td>NaN</td>\n",
              "      <td>1.0</td>\n",
              "      <td>Adrianópolis</td>\n",
              "    </tr>\n",
              "    <tr>\n",
              "      <th>243980</th>\n",
              "      <td>20/04/2020 00:00</td>\n",
              "      <td>Descartado</td>\n",
              "      <td>Recuperado</td>\n",
              "      <td>63.0</td>\n",
              "      <td>M</td>\n",
              "      <td>NaN</td>\n",
              "      <td>NaN</td>\n",
              "      <td>1.0</td>\n",
              "      <td>Adrianópolis</td>\n",
              "    </tr>\n",
              "    <tr>\n",
              "      <th>243981</th>\n",
              "      <td>20/04/2020 00:00</td>\n",
              "      <td>Descartado</td>\n",
              "      <td>Recuperado</td>\n",
              "      <td>53.0</td>\n",
              "      <td>M</td>\n",
              "      <td>NaN</td>\n",
              "      <td>NaN</td>\n",
              "      <td>1.0</td>\n",
              "      <td>CIDADE NOVA</td>\n",
              "    </tr>\n",
              "    <tr>\n",
              "      <th>243982</th>\n",
              "      <td>22/04/2020 00:00</td>\n",
              "      <td>Confirmado</td>\n",
              "      <td>NaN</td>\n",
              "      <td>61.0</td>\n",
              "      <td>F</td>\n",
              "      <td>NaN</td>\n",
              "      <td>NaN</td>\n",
              "      <td>1.0</td>\n",
              "      <td>FLORES</td>\n",
              "    </tr>\n",
              "  </tbody>\n",
              "</table>\n",
              "<p>243983 rows × 9 columns</p>\n",
              "</div>"
            ],
            "text/plain": [
              "         _dt_notificacao _classificacao  ... _teste_pcr         _bairro\n",
              "0       03/01/2020 00:00     Descartado  ...        NaN          TARUMA\n",
              "1       03/01/2020 00:00     Descartado  ...        NaN      TARUMA-ACU\n",
              "2       03/01/2020 00:00     Descartado  ...        NaN  JORGE TEIXEIRA\n",
              "3       08/01/2020 00:00     Descartado  ...        NaN          FLORES\n",
              "4       08/01/2020 00:00     Descartado  ...        NaN  CIDADE DE DEUS\n",
              "...                  ...            ...  ...        ...             ...\n",
              "243978  20/04/2020 00:00     Descartado  ...        1.0   SANTO ANTONIO\n",
              "243979  20/04/2020 00:00     Confirmado  ...        1.0    Adrianópolis\n",
              "243980  20/04/2020 00:00     Descartado  ...        1.0    Adrianópolis\n",
              "243981  20/04/2020 00:00     Descartado  ...        1.0     CIDADE NOVA\n",
              "243982  22/04/2020 00:00     Confirmado  ...        1.0          FLORES\n",
              "\n",
              "[243983 rows x 9 columns]"
            ]
          },
          "metadata": {},
          "execution_count": 10
        }
      ]
    },
    {
      "cell_type": "markdown",
      "metadata": {
        "id": "tsxSwv1DF3ZY"
      },
      "source": [
        "#### Remoção de acentos e caracteres especiais"
      ]
    },
    {
      "cell_type": "code",
      "metadata": {
        "id": "j_QFuu9gGLms"
      },
      "source": [
        "def normalizar_palavra(a):\n",
        "    processamento_1 = unicodedata.normalize(\"NFD\", a)\n",
        "    processamento_2 = processamento_1.encode(\"ascii\", \"ignore\")\n",
        "    processamento_2 = processamento_2.decode(\"utf-8\")\n",
        "    a=processamento_2.upper()\n",
        "    return a"
      ],
      "execution_count": 15,
      "outputs": []
    },
    {
      "cell_type": "code",
      "metadata": {
        "colab": {
          "base_uri": "https://localhost:8080/",
          "height": 419
        },
        "id": "EwrNa6nZGT3n",
        "outputId": "f6be233c-5eb8-46b3-9825-59101c77f676"
      },
      "source": [
        "df.bairro = df.bairro.apply(normalizar_palavra)\n",
        "df.conclusao = df.conclusao.apply(normalizar_palavra)\n",
        "df.classificacao = df.classificacao.apply(normalizar_palavra)\n",
        "\n",
        "\n",
        "df.drop(df.loc[df['classificacao']=='DESCARTADO'].index, inplace=True)\n",
        "df.drop(df.loc[df['classificacao']=='EM ANALISE'].index, inplace=True)\n",
        "df.drop(df.loc[df['bairro']=='SEM DADOS'].index, inplace=True)\n",
        "\n",
        "df.head(-1)"
      ],
      "execution_count": 16,
      "outputs": [
        {
          "output_type": "execute_result",
          "data": {
            "text/html": [
              "<div>\n",
              "<style scoped>\n",
              "    .dataframe tbody tr th:only-of-type {\n",
              "        vertical-align: middle;\n",
              "    }\n",
              "\n",
              "    .dataframe tbody tr th {\n",
              "        vertical-align: top;\n",
              "    }\n",
              "\n",
              "    .dataframe thead th {\n",
              "        text-align: right;\n",
              "    }\n",
              "</style>\n",
              "<table border=\"1\" class=\"dataframe\">\n",
              "  <thead>\n",
              "    <tr style=\"text-align: right;\">\n",
              "      <th></th>\n",
              "      <th>dt_notificacao</th>\n",
              "      <th>classificacao</th>\n",
              "      <th>conclusao</th>\n",
              "      <th>idade</th>\n",
              "      <th>sexo</th>\n",
              "      <th>teste_anticorpo</th>\n",
              "      <th>teste_antigeno</th>\n",
              "      <th>teste_pcr</th>\n",
              "      <th>bairro</th>\n",
              "    </tr>\n",
              "  </thead>\n",
              "  <tbody>\n",
              "    <tr>\n",
              "      <th>130</th>\n",
              "      <td>23/02/2020 00:00</td>\n",
              "      <td>CONFIRMADO</td>\n",
              "      <td>RECUPERADO</td>\n",
              "      <td>12.0</td>\n",
              "      <td>F</td>\n",
              "      <td>0.0</td>\n",
              "      <td>0.0</td>\n",
              "      <td>1.0</td>\n",
              "      <td>MAUAZINHO</td>\n",
              "    </tr>\n",
              "    <tr>\n",
              "      <th>144</th>\n",
              "      <td>28/02/2020 00:00</td>\n",
              "      <td>CONFIRMADO</td>\n",
              "      <td>RECUPERADO</td>\n",
              "      <td>39.0</td>\n",
              "      <td>F</td>\n",
              "      <td>0.0</td>\n",
              "      <td>0.0</td>\n",
              "      <td>1.0</td>\n",
              "      <td>NOVO ALEIXO</td>\n",
              "    </tr>\n",
              "    <tr>\n",
              "      <th>153</th>\n",
              "      <td>02/03/2020 00:00</td>\n",
              "      <td>CONFIRMADO</td>\n",
              "      <td>RECUPERADO</td>\n",
              "      <td>2.0</td>\n",
              "      <td>F</td>\n",
              "      <td>1.0</td>\n",
              "      <td>0.0</td>\n",
              "      <td>0.0</td>\n",
              "      <td>PRACA 14 DE JANEIRO</td>\n",
              "    </tr>\n",
              "    <tr>\n",
              "      <th>158</th>\n",
              "      <td>02/03/2020 00:00</td>\n",
              "      <td>CONFIRMADO</td>\n",
              "      <td>RECUPERADO</td>\n",
              "      <td>71.0</td>\n",
              "      <td>F</td>\n",
              "      <td>2.0</td>\n",
              "      <td>0.0</td>\n",
              "      <td>0.0</td>\n",
              "      <td>FLORES</td>\n",
              "    </tr>\n",
              "    <tr>\n",
              "      <th>196</th>\n",
              "      <td>11/03/2020 00:00</td>\n",
              "      <td>CONFIRMADO</td>\n",
              "      <td>RECUPERADO</td>\n",
              "      <td>46.0</td>\n",
              "      <td>F</td>\n",
              "      <td>0.0</td>\n",
              "      <td>0.0</td>\n",
              "      <td>2.0</td>\n",
              "      <td>CIDADE NOVA</td>\n",
              "    </tr>\n",
              "    <tr>\n",
              "      <th>...</th>\n",
              "      <td>...</td>\n",
              "      <td>...</td>\n",
              "      <td>...</td>\n",
              "      <td>...</td>\n",
              "      <td>...</td>\n",
              "      <td>...</td>\n",
              "      <td>...</td>\n",
              "      <td>...</td>\n",
              "      <td>...</td>\n",
              "    </tr>\n",
              "    <tr>\n",
              "      <th>225147</th>\n",
              "      <td>14/10/2020 00:00</td>\n",
              "      <td>CONFIRMADO</td>\n",
              "      <td>RECUPERADO</td>\n",
              "      <td>39.0</td>\n",
              "      <td>F</td>\n",
              "      <td>5.0</td>\n",
              "      <td>0.0</td>\n",
              "      <td>1.0</td>\n",
              "      <td>LIRIO DO VALE</td>\n",
              "    </tr>\n",
              "    <tr>\n",
              "      <th>225148</th>\n",
              "      <td>14/10/2020 00:00</td>\n",
              "      <td>CONFIRMADO</td>\n",
              "      <td>RECUPERADO</td>\n",
              "      <td>42.0</td>\n",
              "      <td>F</td>\n",
              "      <td>2.0</td>\n",
              "      <td>0.0</td>\n",
              "      <td>0.0</td>\n",
              "      <td>CAMPOS SALES</td>\n",
              "    </tr>\n",
              "    <tr>\n",
              "      <th>225149</th>\n",
              "      <td>12/09/2020 00:00</td>\n",
              "      <td>CONFIRMADO</td>\n",
              "      <td>RECUPERADO</td>\n",
              "      <td>23.0</td>\n",
              "      <td>F</td>\n",
              "      <td>0.0</td>\n",
              "      <td>0.0</td>\n",
              "      <td>2.0</td>\n",
              "      <td>ALEIXO</td>\n",
              "    </tr>\n",
              "    <tr>\n",
              "      <th>225153</th>\n",
              "      <td>08/10/2020 00:00</td>\n",
              "      <td>CONFIRMADO</td>\n",
              "      <td>RECUPERADO</td>\n",
              "      <td>48.0</td>\n",
              "      <td>F</td>\n",
              "      <td>2.0</td>\n",
              "      <td>0.0</td>\n",
              "      <td>0.0</td>\n",
              "      <td>MORRO DA LIBERDADE</td>\n",
              "    </tr>\n",
              "    <tr>\n",
              "      <th>225159</th>\n",
              "      <td>27/11/2020 00:00</td>\n",
              "      <td>CONFIRMADO</td>\n",
              "      <td>RECUPERADO</td>\n",
              "      <td>55.0</td>\n",
              "      <td>M</td>\n",
              "      <td>5.0</td>\n",
              "      <td>0.0</td>\n",
              "      <td>2.0</td>\n",
              "      <td>FLORES</td>\n",
              "    </tr>\n",
              "  </tbody>\n",
              "</table>\n",
              "<p>42683 rows × 9 columns</p>\n",
              "</div>"
            ],
            "text/plain": [
              "          dt_notificacao classificacao  ... teste_pcr               bairro\n",
              "130     23/02/2020 00:00    CONFIRMADO  ...       1.0            MAUAZINHO\n",
              "144     28/02/2020 00:00    CONFIRMADO  ...       1.0          NOVO ALEIXO\n",
              "153     02/03/2020 00:00    CONFIRMADO  ...       0.0  PRACA 14 DE JANEIRO\n",
              "158     02/03/2020 00:00    CONFIRMADO  ...       0.0               FLORES\n",
              "196     11/03/2020 00:00    CONFIRMADO  ...       2.0          CIDADE NOVA\n",
              "...                  ...           ...  ...       ...                  ...\n",
              "225147  14/10/2020 00:00    CONFIRMADO  ...       1.0        LIRIO DO VALE\n",
              "225148  14/10/2020 00:00    CONFIRMADO  ...       0.0         CAMPOS SALES\n",
              "225149  12/09/2020 00:00    CONFIRMADO  ...       2.0               ALEIXO\n",
              "225153  08/10/2020 00:00    CONFIRMADO  ...       0.0   MORRO DA LIBERDADE\n",
              "225159  27/11/2020 00:00    CONFIRMADO  ...       2.0               FLORES\n",
              "\n",
              "[42683 rows x 9 columns]"
            ]
          },
          "metadata": {},
          "execution_count": 16
        }
      ]
    }
  ]
}