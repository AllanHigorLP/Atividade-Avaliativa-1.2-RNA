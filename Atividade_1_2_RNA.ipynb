{
  "nbformat": 4,
  "nbformat_minor": 0,
  "metadata": {
    "colab": {
      "name": "Atividade 1.2  RNA",
      "provenance": [],
      "collapsed_sections": [],
      "include_colab_link": true
    },
    "kernelspec": {
      "name": "python3",
      "display_name": "Python 3"
    },
    "language_info": {
      "name": "python"
    }
  },
  "cells": [
    {
      "cell_type": "markdown",
      "metadata": {
        "id": "view-in-github",
        "colab_type": "text"
      },
      "source": [
        "<a href=\"https://colab.research.google.com/github/AllanHigorLP/Atividade-Avaliativa-1.2-RNA/blob/main/Atividade_1_2_RNA.ipynb\" target=\"_parent\"><img src=\"https://colab.research.google.com/assets/colab-badge.svg\" alt=\"Open In Colab\"/></a>"
      ]
    },
    {
      "cell_type": "markdown",
      "metadata": {
        "id": "2HK28AcSCGYi"
      },
      "source": [
        "# 2.1 Visão Geral dos Casos Confirmados"
      ]
    },
    {
      "cell_type": "markdown",
      "metadata": {
        "id": "fYjyiV_2CKis"
      },
      "source": [
        "**Importando as bibliotecas**"
      ]
    },
    {
      "cell_type": "code",
      "metadata": {
        "id": "BFL_E6Jm_b5m"
      },
      "source": [
        "import numpy as np # linear algebra\n",
        "import pandas as pd # data processing, CSV file I/O (e.g. pd.read_csv)\n",
        "import seaborn as sns\n",
        "import matplotlib.pyplot as plt\n",
        "from sklearn.model_selection import train_test_split #to split the dataset for training and testing\n",
        "from sklearn import metrics\n",
        "import unicodedata"
      ],
      "execution_count": 2,
      "outputs": []
    },
    {
      "cell_type": "markdown",
      "metadata": {
        "id": "KskstCFNCNRg"
      },
      "source": [
        "**Carregando o dataset**"
      ]
    },
    {
      "cell_type": "code",
      "metadata": {
        "id": "NXnEuUgpAwPE"
      },
      "source": [
        "df = pd.read_csv(\"https://covid19.manaus.am.gov.br/wp-content/uploads/Manaus.csv\", delimiter=';', skiprows=0, low_memory=False)"
      ],
      "execution_count": 3,
      "outputs": []
    },
    {
      "cell_type": "code",
      "metadata": {
        "colab": {
          "base_uri": "https://localhost:8080/",
          "height": 330
        },
        "id": "V237cAR2CSjg",
        "outputId": "a5f85d14-37ad-4528-c481-2572a2f265dd"
      },
      "source": [
        "df.head()"
      ],
      "execution_count": 4,
      "outputs": [
        {
          "output_type": "execute_result",
          "data": {
            "text/html": [
              "<div>\n",
              "<style scoped>\n",
              "    .dataframe tbody tr th:only-of-type {\n",
              "        vertical-align: middle;\n",
              "    }\n",
              "\n",
              "    .dataframe tbody tr th {\n",
              "        vertical-align: top;\n",
              "    }\n",
              "\n",
              "    .dataframe thead th {\n",
              "        text-align: right;\n",
              "    }\n",
              "</style>\n",
              "<table border=\"1\" class=\"dataframe\">\n",
              "  <thead>\n",
              "    <tr style=\"text-align: right;\">\n",
              "      <th></th>\n",
              "      <th>_dt_evolucao</th>\n",
              "      <th>_dt_notificacao</th>\n",
              "      <th>_dt_sintomas</th>\n",
              "      <th>_classificacao</th>\n",
              "      <th>_conclusao</th>\n",
              "      <th>_origem</th>\n",
              "      <th>_comorb_cardio</th>\n",
              "      <th>_comorb_cromossomica</th>\n",
              "      <th>_comorb_diabetes</th>\n",
              "      <th>_comorb_hemato</th>\n",
              "      <th>_comorb_hepatica</th>\n",
              "      <th>_comorb_imuno</th>\n",
              "      <th>_comorb_neurologica</th>\n",
              "      <th>_comorb_obessidade</th>\n",
              "      <th>_comorb_renal</th>\n",
              "      <th>_comorb_respiratoria</th>\n",
              "      <th>_criterio</th>\n",
              "      <th>_etnia</th>\n",
              "      <th>_evolução</th>\n",
              "      <th>_idade</th>\n",
              "      <th>_faixa etária</th>\n",
              "      <th>_gestante</th>\n",
              "      <th>_profiss_saude</th>\n",
              "      <th>_raca</th>\n",
              "      <th>_se_notificacao</th>\n",
              "      <th>_sexo</th>\n",
              "      <th>_sintoma_dispneia</th>\n",
              "      <th>_sintoma_febre</th>\n",
              "      <th>_sintoma_garganta</th>\n",
              "      <th>_sintoma_tosse</th>\n",
              "      <th>_sintoma_outros</th>\n",
              "      <th>_srag</th>\n",
              "      <th>_teste_anticorpo</th>\n",
              "      <th>_teste_antigeno</th>\n",
              "      <th>_teste_pcr</th>\n",
              "      <th>_bairro</th>\n",
              "      <th>_bairro_mapa</th>\n",
              "      <th>_distrito</th>\n",
              "      <th>_taxa</th>\n",
              "    </tr>\n",
              "  </thead>\n",
              "  <tbody>\n",
              "    <tr>\n",
              "      <th>0</th>\n",
              "      <td>25/01/2020 00:00</td>\n",
              "      <td>03/01/2020 00:00</td>\n",
              "      <td>01/01/2020 00:00</td>\n",
              "      <td>Descartado</td>\n",
              "      <td>Recuperado</td>\n",
              "      <td>SIVEP,</td>\n",
              "      <td>NaN</td>\n",
              "      <td>NaN</td>\n",
              "      <td>NaN</td>\n",
              "      <td>NaN</td>\n",
              "      <td>NaN</td>\n",
              "      <td>NaN</td>\n",
              "      <td>NaN</td>\n",
              "      <td>NaN</td>\n",
              "      <td>NaN</td>\n",
              "      <td>NaN</td>\n",
              "      <td>Laboratorial</td>\n",
              "      <td>NaN</td>\n",
              "      <td>Internado</td>\n",
              "      <td>4.0</td>\n",
              "      <td>1a - 4a</td>\n",
              "      <td>NaN</td>\n",
              "      <td>NaN</td>\n",
              "      <td>Parda</td>\n",
              "      <td>1.0</td>\n",
              "      <td>M</td>\n",
              "      <td>Sim</td>\n",
              "      <td>Sim</td>\n",
              "      <td>Sim</td>\n",
              "      <td>Sim</td>\n",
              "      <td>Sim</td>\n",
              "      <td>SRAG não especificado</td>\n",
              "      <td>NaN</td>\n",
              "      <td>NaN</td>\n",
              "      <td>NaN</td>\n",
              "      <td>TARUMA</td>\n",
              "      <td>TARUMÃ</td>\n",
              "      <td>OESTE</td>\n",
              "      <td>0,243042897</td>\n",
              "    </tr>\n",
              "    <tr>\n",
              "      <th>1</th>\n",
              "      <td>03/01/2020 00:00</td>\n",
              "      <td>03/01/2020 00:00</td>\n",
              "      <td>01/01/2020 00:00</td>\n",
              "      <td>Descartado</td>\n",
              "      <td>Óbito</td>\n",
              "      <td>SIVEP,</td>\n",
              "      <td>NaN</td>\n",
              "      <td>NaN</td>\n",
              "      <td>NaN</td>\n",
              "      <td>NaN</td>\n",
              "      <td>NaN</td>\n",
              "      <td>NaN</td>\n",
              "      <td>NaN</td>\n",
              "      <td>NaN</td>\n",
              "      <td>NaN</td>\n",
              "      <td>NaN</td>\n",
              "      <td>Laboratorial</td>\n",
              "      <td>NaN</td>\n",
              "      <td>Internado</td>\n",
              "      <td>26.0</td>\n",
              "      <td>20a - 29a</td>\n",
              "      <td>NaN</td>\n",
              "      <td>NaN</td>\n",
              "      <td>Parda</td>\n",
              "      <td>1.0</td>\n",
              "      <td>F</td>\n",
              "      <td>Sim</td>\n",
              "      <td>Sim</td>\n",
              "      <td>Sim</td>\n",
              "      <td>Sim</td>\n",
              "      <td>Sim</td>\n",
              "      <td>Influenza B</td>\n",
              "      <td>NaN</td>\n",
              "      <td>NaN</td>\n",
              "      <td>NaN</td>\n",
              "      <td>TARUMA-ACU</td>\n",
              "      <td>TARUMÃ-AÇÚ</td>\n",
              "      <td>OESTE</td>\n",
              "      <td>0,684931507</td>\n",
              "    </tr>\n",
              "    <tr>\n",
              "      <th>2</th>\n",
              "      <td>05/01/2020 00:00</td>\n",
              "      <td>03/01/2020 00:00</td>\n",
              "      <td>03/01/2020 00:00</td>\n",
              "      <td>Descartado</td>\n",
              "      <td>Óbito</td>\n",
              "      <td>SIVEP,</td>\n",
              "      <td>NaN</td>\n",
              "      <td>NaN</td>\n",
              "      <td>NaN</td>\n",
              "      <td>NaN</td>\n",
              "      <td>NaN</td>\n",
              "      <td>NaN</td>\n",
              "      <td>NaN</td>\n",
              "      <td>NaN</td>\n",
              "      <td>NaN</td>\n",
              "      <td>NaN</td>\n",
              "      <td>Laboratorial</td>\n",
              "      <td>NaN</td>\n",
              "      <td>Internado em UTI</td>\n",
              "      <td>27.0</td>\n",
              "      <td>20a - 29a</td>\n",
              "      <td>NaN</td>\n",
              "      <td>NaN</td>\n",
              "      <td>Parda</td>\n",
              "      <td>1.0</td>\n",
              "      <td>M</td>\n",
              "      <td>Sim</td>\n",
              "      <td>Sim</td>\n",
              "      <td>Sim</td>\n",
              "      <td>Sim</td>\n",
              "      <td>Sim</td>\n",
              "      <td>SRAG não especificado</td>\n",
              "      <td>NaN</td>\n",
              "      <td>NaN</td>\n",
              "      <td>NaN</td>\n",
              "      <td>JORGE TEIXEIRA</td>\n",
              "      <td>JORGE TEIXEIRA</td>\n",
              "      <td>LESTE</td>\n",
              "      <td>0,073137374</td>\n",
              "    </tr>\n",
              "    <tr>\n",
              "      <th>3</th>\n",
              "      <td>16/01/2020 00:00</td>\n",
              "      <td>08/01/2020 00:00</td>\n",
              "      <td>04/01/2020 00:00</td>\n",
              "      <td>Descartado</td>\n",
              "      <td>Óbito</td>\n",
              "      <td>SIVEP,</td>\n",
              "      <td>NaN</td>\n",
              "      <td>NaN</td>\n",
              "      <td>NaN</td>\n",
              "      <td>NaN</td>\n",
              "      <td>NaN</td>\n",
              "      <td>NaN</td>\n",
              "      <td>NaN</td>\n",
              "      <td>NaN</td>\n",
              "      <td>NaN</td>\n",
              "      <td>NaN</td>\n",
              "      <td>Laboratorial</td>\n",
              "      <td>NaN</td>\n",
              "      <td>Internado em UTI</td>\n",
              "      <td>94.0</td>\n",
              "      <td>80a ou +</td>\n",
              "      <td>NaN</td>\n",
              "      <td>NaN</td>\n",
              "      <td>Parda</td>\n",
              "      <td>2.0</td>\n",
              "      <td>M</td>\n",
              "      <td>Sim</td>\n",
              "      <td>Sim</td>\n",
              "      <td>Sim</td>\n",
              "      <td>Sim</td>\n",
              "      <td>Sim</td>\n",
              "      <td>SRAG não especificado</td>\n",
              "      <td>NaN</td>\n",
              "      <td>NaN</td>\n",
              "      <td>NaN</td>\n",
              "      <td>FLORES</td>\n",
              "      <td>FLORES</td>\n",
              "      <td>SUL</td>\n",
              "      <td>0,198306463</td>\n",
              "    </tr>\n",
              "    <tr>\n",
              "      <th>4</th>\n",
              "      <td>11/01/2020 00:00</td>\n",
              "      <td>08/01/2020 00:00</td>\n",
              "      <td>05/01/2020 00:00</td>\n",
              "      <td>Descartado</td>\n",
              "      <td>Recuperado</td>\n",
              "      <td>SIVEP,</td>\n",
              "      <td>NaN</td>\n",
              "      <td>NaN</td>\n",
              "      <td>NaN</td>\n",
              "      <td>NaN</td>\n",
              "      <td>NaN</td>\n",
              "      <td>NaN</td>\n",
              "      <td>NaN</td>\n",
              "      <td>NaN</td>\n",
              "      <td>NaN</td>\n",
              "      <td>NaN</td>\n",
              "      <td>Laboratorial</td>\n",
              "      <td>NaN</td>\n",
              "      <td>Internado</td>\n",
              "      <td>0.0</td>\n",
              "      <td>&lt; 1a</td>\n",
              "      <td>NaN</td>\n",
              "      <td>NaN</td>\n",
              "      <td>Parda</td>\n",
              "      <td>2.0</td>\n",
              "      <td>M</td>\n",
              "      <td>Sim</td>\n",
              "      <td>Sim</td>\n",
              "      <td>NaN</td>\n",
              "      <td>Sim</td>\n",
              "      <td>Sim</td>\n",
              "      <td>SRAG não especificado</td>\n",
              "      <td>NaN</td>\n",
              "      <td>NaN</td>\n",
              "      <td>NaN</td>\n",
              "      <td>CIDADE DE DEUS</td>\n",
              "      <td>CIDADE DE DEUS</td>\n",
              "      <td>NORTE</td>\n",
              "      <td>0,117699678</td>\n",
              "    </tr>\n",
              "  </tbody>\n",
              "</table>\n",
              "</div>"
            ],
            "text/plain": [
              "       _dt_evolucao   _dt_notificacao  ... _distrito        _taxa\n",
              "0  25/01/2020 00:00  03/01/2020 00:00  ...     OESTE  0,243042897\n",
              "1  03/01/2020 00:00  03/01/2020 00:00  ...     OESTE  0,684931507\n",
              "2  05/01/2020 00:00  03/01/2020 00:00  ...     LESTE  0,073137374\n",
              "3  16/01/2020 00:00  08/01/2020 00:00  ...       SUL  0,198306463\n",
              "4  11/01/2020 00:00  08/01/2020 00:00  ...     NORTE  0,117699678\n",
              "\n",
              "[5 rows x 39 columns]"
            ]
          },
          "metadata": {},
          "execution_count": 4
        }
      ]
    },
    {
      "cell_type": "markdown",
      "metadata": {
        "id": "VTvd9bdpCnvF"
      },
      "source": [
        "### 1 - Quantos Atributos descrevem cada exemplo? Quais são eles?"
      ]
    },
    {
      "cell_type": "code",
      "metadata": {
        "colab": {
          "base_uri": "https://localhost:8080/"
        },
        "id": "9Ix69GKXCrph",
        "outputId": "1f092247-221d-4e8b-b4bd-e790497ebfb4"
      },
      "source": [
        "df.columns\n"
      ],
      "execution_count": 5,
      "outputs": [
        {
          "output_type": "execute_result",
          "data": {
            "text/plain": [
              "Index(['_dt_evolucao', '_dt_notificacao', '_dt_sintomas', '_classificacao',\n",
              "       '_conclusao', '_origem', '_comorb_cardio', '_comorb_cromossomica',\n",
              "       '_comorb_diabetes', '_comorb_hemato', '_comorb_hepatica',\n",
              "       '_comorb_imuno', '_comorb_neurologica', '_comorb_obessidade',\n",
              "       '_comorb_renal', '_comorb_respiratoria', '_criterio', '_etnia',\n",
              "       '_evolução', '_idade', '_faixa etária', '_gestante', '_profiss_saude',\n",
              "       '_raca', '_se_notificacao', '_sexo', '_sintoma_dispneia',\n",
              "       '_sintoma_febre', '_sintoma_garganta', '_sintoma_tosse',\n",
              "       '_sintoma_outros', '_srag', '_teste_anticorpo', '_teste_antigeno',\n",
              "       '_teste_pcr', '_bairro', '_bairro_mapa', '_distrito', '_taxa'],\n",
              "      dtype='object')"
            ]
          },
          "metadata": {},
          "execution_count": 5
        }
      ]
    },
    {
      "cell_type": "markdown",
      "metadata": {
        "id": "2PzyY65MC1Hb"
      },
      "source": [
        "### 2 - Quantos casos confirmados há em Manaus, cumulativamente?"
      ]
    },
    {
      "cell_type": "code",
      "metadata": {
        "colab": {
          "base_uri": "https://localhost:8080/"
        },
        "id": "4JYBUBqyC1wt",
        "outputId": "ac43db39-2172-4075-c92b-743dd2cedcd8"
      },
      "source": [
        "casosConfirmados = df['_classificacao'].value_counts()\n",
        "print(\"Casos confirmados: {}\".format(casosConfirmados[1]))"
      ],
      "execution_count": 6,
      "outputs": [
        {
          "output_type": "stream",
          "name": "stdout",
          "text": [
            "Casos confirmados: 80420\n"
          ]
        }
      ]
    },
    {
      "cell_type": "markdown",
      "metadata": {
        "id": "DZnr90K2DBuh"
      },
      "source": [
        "### 3- A qual período de tempo a base de dados se refere, isto é, qual o registro mais antigo e qual o mais recente? Leve em conta a data de notificação."
      ]
    },
    {
      "cell_type": "code",
      "metadata": {
        "colab": {
          "base_uri": "https://localhost:8080/"
        },
        "id": "1skAzLlrDCYv",
        "outputId": "cc4af619-bd60-4fe8-9187-779f60f20580"
      },
      "source": [
        "df10 = df.copy()\n",
        "df10._dt_notificacao = pd.to_datetime(df10._dt_notificacao) \n",
        "df10 = df10._dt_notificacao.dropna()\n",
        "df10 = df10.sort_values()\n",
        "df10 = df10.reset_index()\n",
        "df10._dt_notificacao = df10['_dt_notificacao'].dt.strftime('%d/%m/%Y')\n",
        "tam = len(df10)\n",
        "print(\"Registro mais antigo:\",df10._dt_notificacao.values[0])\n",
        "print(\"Registro de mais recente:\",df10._dt_notificacao.values[tam-1])"
      ],
      "execution_count": 8,
      "outputs": [
        {
          "output_type": "stream",
          "name": "stdout",
          "text": [
            "Registro mais antigo: 01/01/2020\n",
            "Registro de mais recente: 29/12/2020\n"
          ]
        }
      ]
    }
  ]
}