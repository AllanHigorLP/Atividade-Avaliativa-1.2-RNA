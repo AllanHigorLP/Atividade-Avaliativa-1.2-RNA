{
  "nbformat": 4,
  "nbformat_minor": 0,
  "metadata": {
    "colab": {
      "name": "Atividade 1.2  RNA",
      "provenance": [],
      "collapsed_sections": [],
      "include_colab_link": true
    },
    "kernelspec": {
      "name": "python3",
      "display_name": "Python 3"
    },
    "language_info": {
      "name": "python"
    }
  },
  "cells": [
    {
      "cell_type": "markdown",
      "metadata": {
        "id": "view-in-github",
        "colab_type": "text"
      },
      "source": [
        "<a href=\"https://colab.research.google.com/github/AllanHigorLP/Atividade-Avaliativa-1.2-RNA/blob/main/Atividade_1_2_RNA.ipynb\" target=\"_parent\"><img src=\"https://colab.research.google.com/assets/colab-badge.svg\" alt=\"Open In Colab\"/></a>"
      ]
    },
    {
      "cell_type": "markdown",
      "metadata": {
        "id": "2HK28AcSCGYi"
      },
      "source": [
        "# 2.1 Visão Geral dos Casos Confirmados"
      ]
    },
    {
      "cell_type": "markdown",
      "metadata": {
        "id": "fYjyiV_2CKis"
      },
      "source": [
        "**Importando as bibliotecas**"
      ]
    },
    {
      "cell_type": "code",
      "metadata": {
        "id": "BFL_E6Jm_b5m"
      },
      "source": [
        "import numpy as np # linear algebra\n",
        "import pandas as pd # data processing, CSV file I/O (e.g. pd.read_csv)\n",
        "import seaborn as sns\n",
        "import matplotlib.pyplot as plt\n",
        "from sklearn.model_selection import train_test_split #to split the dataset for training and testing\n",
        "from sklearn import metrics\n",
        "import unicodedata"
      ],
      "execution_count": 74,
      "outputs": []
    },
    {
      "cell_type": "markdown",
      "metadata": {
        "id": "KskstCFNCNRg"
      },
      "source": [
        "**Carregando o dataset**"
      ]
    },
    {
      "cell_type": "code",
      "metadata": {
        "id": "NXnEuUgpAwPE"
      },
      "source": [
        "df = pd.read_csv(\"https://covid19.manaus.am.gov.br/wp-content/uploads/Manaus.csv\", delimiter=';', skiprows=0, low_memory=False)"
      ],
      "execution_count": 75,
      "outputs": []
    },
    {
      "cell_type": "code",
      "metadata": {
        "id": "V237cAR2CSjg",
        "colab": {
          "base_uri": "https://localhost:8080/",
          "height": 326
        },
        "outputId": "76346ed3-31be-4583-8f88-744ccc5c20ca"
      },
      "source": [
        "df.head()"
      ],
      "execution_count": 76,
      "outputs": [
        {
          "output_type": "execute_result",
          "data": {
            "text/html": [
              "<div>\n",
              "<style scoped>\n",
              "    .dataframe tbody tr th:only-of-type {\n",
              "        vertical-align: middle;\n",
              "    }\n",
              "\n",
              "    .dataframe tbody tr th {\n",
              "        vertical-align: top;\n",
              "    }\n",
              "\n",
              "    .dataframe thead th {\n",
              "        text-align: right;\n",
              "    }\n",
              "</style>\n",
              "<table border=\"1\" class=\"dataframe\">\n",
              "  <thead>\n",
              "    <tr style=\"text-align: right;\">\n",
              "      <th></th>\n",
              "      <th>_dt_evolucao</th>\n",
              "      <th>_dt_notificacao</th>\n",
              "      <th>_dt_sintomas</th>\n",
              "      <th>_classificacao</th>\n",
              "      <th>_conclusao</th>\n",
              "      <th>_origem</th>\n",
              "      <th>_comorb_cardio</th>\n",
              "      <th>_comorb_cromossomica</th>\n",
              "      <th>_comorb_diabetes</th>\n",
              "      <th>_comorb_hemato</th>\n",
              "      <th>_comorb_hepatica</th>\n",
              "      <th>_comorb_imuno</th>\n",
              "      <th>_comorb_neurologica</th>\n",
              "      <th>_comorb_obessidade</th>\n",
              "      <th>_comorb_renal</th>\n",
              "      <th>_comorb_respiratoria</th>\n",
              "      <th>_criterio</th>\n",
              "      <th>_etnia</th>\n",
              "      <th>_evolução</th>\n",
              "      <th>_idade</th>\n",
              "      <th>_faixa etária</th>\n",
              "      <th>_gestante</th>\n",
              "      <th>_profiss_saude</th>\n",
              "      <th>_raca</th>\n",
              "      <th>_se_notificacao</th>\n",
              "      <th>_sexo</th>\n",
              "      <th>_sintoma_dispneia</th>\n",
              "      <th>_sintoma_febre</th>\n",
              "      <th>_sintoma_garganta</th>\n",
              "      <th>_sintoma_tosse</th>\n",
              "      <th>_sintoma_outros</th>\n",
              "      <th>_srag</th>\n",
              "      <th>_teste_anticorpo</th>\n",
              "      <th>_teste_antigeno</th>\n",
              "      <th>_teste_pcr</th>\n",
              "      <th>_bairro</th>\n",
              "      <th>_bairro_mapa</th>\n",
              "      <th>_distrito</th>\n",
              "      <th>_taxa</th>\n",
              "    </tr>\n",
              "  </thead>\n",
              "  <tbody>\n",
              "    <tr>\n",
              "      <th>0</th>\n",
              "      <td>25/01/2020 00:00</td>\n",
              "      <td>03/01/2020 00:00</td>\n",
              "      <td>01/01/2020 00:00</td>\n",
              "      <td>Descartado</td>\n",
              "      <td>Recuperado</td>\n",
              "      <td>SIVEP,</td>\n",
              "      <td>NaN</td>\n",
              "      <td>NaN</td>\n",
              "      <td>NaN</td>\n",
              "      <td>NaN</td>\n",
              "      <td>NaN</td>\n",
              "      <td>NaN</td>\n",
              "      <td>NaN</td>\n",
              "      <td>NaN</td>\n",
              "      <td>NaN</td>\n",
              "      <td>NaN</td>\n",
              "      <td>Laboratorial</td>\n",
              "      <td>NaN</td>\n",
              "      <td>Internado</td>\n",
              "      <td>4.0</td>\n",
              "      <td>1a - 4a</td>\n",
              "      <td>NaN</td>\n",
              "      <td>NaN</td>\n",
              "      <td>Parda</td>\n",
              "      <td>1.0</td>\n",
              "      <td>M</td>\n",
              "      <td>Sim</td>\n",
              "      <td>Sim</td>\n",
              "      <td>Sim</td>\n",
              "      <td>Sim</td>\n",
              "      <td>Sim</td>\n",
              "      <td>SRAG não especificado</td>\n",
              "      <td>NaN</td>\n",
              "      <td>NaN</td>\n",
              "      <td>NaN</td>\n",
              "      <td>TARUMA</td>\n",
              "      <td>TARUMÃ</td>\n",
              "      <td>OESTE</td>\n",
              "      <td>0,243042897</td>\n",
              "    </tr>\n",
              "    <tr>\n",
              "      <th>1</th>\n",
              "      <td>03/01/2020 00:00</td>\n",
              "      <td>03/01/2020 00:00</td>\n",
              "      <td>01/01/2020 00:00</td>\n",
              "      <td>Descartado</td>\n",
              "      <td>Óbito</td>\n",
              "      <td>SIVEP,</td>\n",
              "      <td>NaN</td>\n",
              "      <td>NaN</td>\n",
              "      <td>NaN</td>\n",
              "      <td>NaN</td>\n",
              "      <td>NaN</td>\n",
              "      <td>NaN</td>\n",
              "      <td>NaN</td>\n",
              "      <td>NaN</td>\n",
              "      <td>NaN</td>\n",
              "      <td>NaN</td>\n",
              "      <td>Laboratorial</td>\n",
              "      <td>NaN</td>\n",
              "      <td>Internado</td>\n",
              "      <td>26.0</td>\n",
              "      <td>20a - 29a</td>\n",
              "      <td>NaN</td>\n",
              "      <td>NaN</td>\n",
              "      <td>Parda</td>\n",
              "      <td>1.0</td>\n",
              "      <td>F</td>\n",
              "      <td>Sim</td>\n",
              "      <td>Sim</td>\n",
              "      <td>Sim</td>\n",
              "      <td>Sim</td>\n",
              "      <td>Sim</td>\n",
              "      <td>Influenza B</td>\n",
              "      <td>NaN</td>\n",
              "      <td>NaN</td>\n",
              "      <td>NaN</td>\n",
              "      <td>TARUMA-ACU</td>\n",
              "      <td>TARUMÃ-AÇÚ</td>\n",
              "      <td>OESTE</td>\n",
              "      <td>0,684931507</td>\n",
              "    </tr>\n",
              "    <tr>\n",
              "      <th>2</th>\n",
              "      <td>05/01/2020 00:00</td>\n",
              "      <td>03/01/2020 00:00</td>\n",
              "      <td>03/01/2020 00:00</td>\n",
              "      <td>Descartado</td>\n",
              "      <td>Óbito</td>\n",
              "      <td>SIVEP,</td>\n",
              "      <td>NaN</td>\n",
              "      <td>NaN</td>\n",
              "      <td>NaN</td>\n",
              "      <td>NaN</td>\n",
              "      <td>NaN</td>\n",
              "      <td>NaN</td>\n",
              "      <td>NaN</td>\n",
              "      <td>NaN</td>\n",
              "      <td>NaN</td>\n",
              "      <td>NaN</td>\n",
              "      <td>Laboratorial</td>\n",
              "      <td>NaN</td>\n",
              "      <td>Internado em UTI</td>\n",
              "      <td>27.0</td>\n",
              "      <td>20a - 29a</td>\n",
              "      <td>NaN</td>\n",
              "      <td>NaN</td>\n",
              "      <td>Parda</td>\n",
              "      <td>1.0</td>\n",
              "      <td>M</td>\n",
              "      <td>Sim</td>\n",
              "      <td>Sim</td>\n",
              "      <td>Sim</td>\n",
              "      <td>Sim</td>\n",
              "      <td>Sim</td>\n",
              "      <td>SRAG não especificado</td>\n",
              "      <td>NaN</td>\n",
              "      <td>NaN</td>\n",
              "      <td>NaN</td>\n",
              "      <td>JORGE TEIXEIRA</td>\n",
              "      <td>JORGE TEIXEIRA</td>\n",
              "      <td>LESTE</td>\n",
              "      <td>0,073137374</td>\n",
              "    </tr>\n",
              "    <tr>\n",
              "      <th>3</th>\n",
              "      <td>16/01/2020 00:00</td>\n",
              "      <td>08/01/2020 00:00</td>\n",
              "      <td>04/01/2020 00:00</td>\n",
              "      <td>Descartado</td>\n",
              "      <td>Óbito</td>\n",
              "      <td>SIVEP,</td>\n",
              "      <td>NaN</td>\n",
              "      <td>NaN</td>\n",
              "      <td>NaN</td>\n",
              "      <td>NaN</td>\n",
              "      <td>NaN</td>\n",
              "      <td>NaN</td>\n",
              "      <td>NaN</td>\n",
              "      <td>NaN</td>\n",
              "      <td>NaN</td>\n",
              "      <td>NaN</td>\n",
              "      <td>Laboratorial</td>\n",
              "      <td>NaN</td>\n",
              "      <td>Internado em UTI</td>\n",
              "      <td>94.0</td>\n",
              "      <td>80a ou +</td>\n",
              "      <td>NaN</td>\n",
              "      <td>NaN</td>\n",
              "      <td>Parda</td>\n",
              "      <td>2.0</td>\n",
              "      <td>M</td>\n",
              "      <td>Sim</td>\n",
              "      <td>Sim</td>\n",
              "      <td>Sim</td>\n",
              "      <td>Sim</td>\n",
              "      <td>Sim</td>\n",
              "      <td>SRAG não especificado</td>\n",
              "      <td>NaN</td>\n",
              "      <td>NaN</td>\n",
              "      <td>NaN</td>\n",
              "      <td>FLORES</td>\n",
              "      <td>FLORES</td>\n",
              "      <td>SUL</td>\n",
              "      <td>0,198306463</td>\n",
              "    </tr>\n",
              "    <tr>\n",
              "      <th>4</th>\n",
              "      <td>11/01/2020 00:00</td>\n",
              "      <td>08/01/2020 00:00</td>\n",
              "      <td>05/01/2020 00:00</td>\n",
              "      <td>Descartado</td>\n",
              "      <td>Recuperado</td>\n",
              "      <td>SIVEP,</td>\n",
              "      <td>NaN</td>\n",
              "      <td>NaN</td>\n",
              "      <td>NaN</td>\n",
              "      <td>NaN</td>\n",
              "      <td>NaN</td>\n",
              "      <td>NaN</td>\n",
              "      <td>NaN</td>\n",
              "      <td>NaN</td>\n",
              "      <td>NaN</td>\n",
              "      <td>NaN</td>\n",
              "      <td>Laboratorial</td>\n",
              "      <td>NaN</td>\n",
              "      <td>Internado</td>\n",
              "      <td>0.0</td>\n",
              "      <td>&lt; 1a</td>\n",
              "      <td>NaN</td>\n",
              "      <td>NaN</td>\n",
              "      <td>Parda</td>\n",
              "      <td>2.0</td>\n",
              "      <td>M</td>\n",
              "      <td>Sim</td>\n",
              "      <td>Sim</td>\n",
              "      <td>NaN</td>\n",
              "      <td>Sim</td>\n",
              "      <td>Sim</td>\n",
              "      <td>SRAG não especificado</td>\n",
              "      <td>NaN</td>\n",
              "      <td>NaN</td>\n",
              "      <td>NaN</td>\n",
              "      <td>CIDADE DE DEUS</td>\n",
              "      <td>CIDADE DE DEUS</td>\n",
              "      <td>NORTE</td>\n",
              "      <td>0,117699678</td>\n",
              "    </tr>\n",
              "  </tbody>\n",
              "</table>\n",
              "</div>"
            ],
            "text/plain": [
              "       _dt_evolucao   _dt_notificacao  ... _distrito        _taxa\n",
              "0  25/01/2020 00:00  03/01/2020 00:00  ...     OESTE  0,243042897\n",
              "1  03/01/2020 00:00  03/01/2020 00:00  ...     OESTE  0,684931507\n",
              "2  05/01/2020 00:00  03/01/2020 00:00  ...     LESTE  0,073137374\n",
              "3  16/01/2020 00:00  08/01/2020 00:00  ...       SUL  0,198306463\n",
              "4  11/01/2020 00:00  08/01/2020 00:00  ...     NORTE  0,117699678\n",
              "\n",
              "[5 rows x 39 columns]"
            ]
          },
          "metadata": {},
          "execution_count": 76
        }
      ]
    },
    {
      "cell_type": "markdown",
      "metadata": {
        "id": "VTvd9bdpCnvF"
      },
      "source": [
        "### 1 - Quantos Atributos descrevem cada exemplo? Quais são eles?"
      ]
    },
    {
      "cell_type": "code",
      "metadata": {
        "id": "9Ix69GKXCrph",
        "colab": {
          "base_uri": "https://localhost:8080/"
        },
        "outputId": "1ab4a85a-6025-484a-8791-dcb7da24d213"
      },
      "source": [
        "df.columns\n"
      ],
      "execution_count": 77,
      "outputs": [
        {
          "output_type": "execute_result",
          "data": {
            "text/plain": [
              "Index(['_dt_evolucao', '_dt_notificacao', '_dt_sintomas', '_classificacao',\n",
              "       '_conclusao', '_origem', '_comorb_cardio', '_comorb_cromossomica',\n",
              "       '_comorb_diabetes', '_comorb_hemato', '_comorb_hepatica',\n",
              "       '_comorb_imuno', '_comorb_neurologica', '_comorb_obessidade',\n",
              "       '_comorb_renal', '_comorb_respiratoria', '_criterio', '_etnia',\n",
              "       '_evolução', '_idade', '_faixa etária', '_gestante', '_profiss_saude',\n",
              "       '_raca', '_se_notificacao', '_sexo', '_sintoma_dispneia',\n",
              "       '_sintoma_febre', '_sintoma_garganta', '_sintoma_tosse',\n",
              "       '_sintoma_outros', '_srag', '_teste_anticorpo', '_teste_antigeno',\n",
              "       '_teste_pcr', '_bairro', '_bairro_mapa', '_distrito', '_taxa'],\n",
              "      dtype='object')"
            ]
          },
          "metadata": {},
          "execution_count": 77
        }
      ]
    },
    {
      "cell_type": "markdown",
      "metadata": {
        "id": "2PzyY65MC1Hb"
      },
      "source": [
        "### 2 - Quantos casos confirmados há em Manaus, cumulativamente?"
      ]
    },
    {
      "cell_type": "code",
      "metadata": {
        "id": "4JYBUBqyC1wt",
        "colab": {
          "base_uri": "https://localhost:8080/"
        },
        "outputId": "4d4ea447-3611-4e0b-8730-3d543bb8d2ab"
      },
      "source": [
        "casosConfirmados = df.copy()\n",
        "tam = len(casosConfirmados)\n",
        "print(\"Casos confirmados: {}\".format(tam))"
      ],
      "execution_count": 78,
      "outputs": [
        {
          "output_type": "stream",
          "name": "stdout",
          "text": [
            "Casos confirmados: 243984\n"
          ]
        }
      ]
    },
    {
      "cell_type": "markdown",
      "metadata": {
        "id": "DZnr90K2DBuh"
      },
      "source": [
        "### 3- A qual período de tempo a base de dados se refere, isto é, qual o registro mais antigo e qual o mais recente? Leve em conta a data de notificação."
      ]
    },
    {
      "cell_type": "code",
      "metadata": {
        "id": "1skAzLlrDCYv",
        "colab": {
          "base_uri": "https://localhost:8080/"
        },
        "outputId": "af196193-9fe5-4cb6-c739-66549f2a1a28"
      },
      "source": [
        "df10 = df.copy()\n",
        "df10._dt_notificacao = pd.to_datetime(df10._dt_notificacao) \n",
        "df10 = df10._dt_notificacao.dropna()\n",
        "df10 = df10.sort_values()\n",
        "df10 = df10.reset_index()\n",
        "df10._dt_notificacao = df10['_dt_notificacao'].dt.strftime('%d/%m/%Y')\n",
        "tam = len(df10)\n",
        "print(\"Registro mais antigo:\",df10._dt_notificacao.values[0])\n",
        "print(\"Registro de mais recente:\",df10._dt_notificacao.values[tam-1])"
      ],
      "execution_count": 79,
      "outputs": [
        {
          "output_type": "stream",
          "name": "stdout",
          "text": [
            "Registro mais antigo: 01/01/2020\n",
            "Registro de mais recente: 29/12/2020\n"
          ]
        }
      ]
    },
    {
      "cell_type": "markdown",
      "metadata": {
        "id": "yej0P_t4EDZN"
      },
      "source": [
        "### Limpeza dos Dados"
      ]
    },
    {
      "cell_type": "markdown",
      "metadata": {
        "id": "QghyZX9zEM_O"
      },
      "source": [
        "#### Verificando se há alguma inconsistência no conjunto de dados"
      ]
    },
    {
      "cell_type": "code",
      "metadata": {
        "id": "IB15nNt9EYzf"
      },
      "source": [
        "df.drop(columns=['_comorb_cardio', '_comorb_cromossomica', '_comorb_diabetes', '_comorb_hemato', '_comorb_hepatica', '_comorb_imuno',\t'_comorb_neurologica',\t'_comorb_obessidade',\t'_comorb_renal',\t'_comorb_respiratoria', '_gestante',\t'_profiss_saude',\t'_raca', '_sintoma_dispneia',\t'_sintoma_febre',\t'_sintoma_garganta',\t'_sintoma_tosse',\t'_sintoma_outros','_etnia','_dt_evolucao','_dt_sintomas','_origem',\t'_criterio','_evolução','_bairro_mapa',\t'_distrito','_srag','_se_notificacao','_faixa etária', '_taxa'], inplace=True)"
      ],
      "execution_count": 80,
      "outputs": []
    },
    {
      "cell_type": "code",
      "metadata": {
        "id": "EUkX1KvSEw5d",
        "colab": {
          "base_uri": "https://localhost:8080/"
        },
        "outputId": "91c9f042-cb4f-44b3-e3ff-621b24ba5034"
      },
      "source": [
        "df.info()"
      ],
      "execution_count": 81,
      "outputs": [
        {
          "output_type": "stream",
          "name": "stdout",
          "text": [
            "<class 'pandas.core.frame.DataFrame'>\n",
            "RangeIndex: 243984 entries, 0 to 243983\n",
            "Data columns (total 9 columns):\n",
            " #   Column            Non-Null Count   Dtype  \n",
            "---  ------            --------------   -----  \n",
            " 0   _dt_notificacao   243913 non-null  object \n",
            " 1   _classificacao    243984 non-null  object \n",
            " 2   _conclusao        180928 non-null  object \n",
            " 3   _idade            243913 non-null  float64\n",
            " 4   _sexo             243497 non-null  object \n",
            " 5   _teste_anticorpo  138919 non-null  float64\n",
            " 6   _teste_antigeno   23196 non-null   float64\n",
            " 7   _teste_pcr        58306 non-null   float64\n",
            " 8   _bairro           240419 non-null  object \n",
            "dtypes: float64(4), object(5)\n",
            "memory usage: 16.8+ MB\n"
          ]
        }
      ]
    },
    {
      "cell_type": "code",
      "metadata": {
        "id": "LPbHlEroE2dI",
        "colab": {
          "base_uri": "https://localhost:8080/",
          "height": 419
        },
        "outputId": "de4c35b3-d6c8-46a5-ee73-6b6587bd1dbe"
      },
      "source": [
        "df.head(-1)"
      ],
      "execution_count": 82,
      "outputs": [
        {
          "output_type": "execute_result",
          "data": {
            "text/html": [
              "<div>\n",
              "<style scoped>\n",
              "    .dataframe tbody tr th:only-of-type {\n",
              "        vertical-align: middle;\n",
              "    }\n",
              "\n",
              "    .dataframe tbody tr th {\n",
              "        vertical-align: top;\n",
              "    }\n",
              "\n",
              "    .dataframe thead th {\n",
              "        text-align: right;\n",
              "    }\n",
              "</style>\n",
              "<table border=\"1\" class=\"dataframe\">\n",
              "  <thead>\n",
              "    <tr style=\"text-align: right;\">\n",
              "      <th></th>\n",
              "      <th>_dt_notificacao</th>\n",
              "      <th>_classificacao</th>\n",
              "      <th>_conclusao</th>\n",
              "      <th>_idade</th>\n",
              "      <th>_sexo</th>\n",
              "      <th>_teste_anticorpo</th>\n",
              "      <th>_teste_antigeno</th>\n",
              "      <th>_teste_pcr</th>\n",
              "      <th>_bairro</th>\n",
              "    </tr>\n",
              "  </thead>\n",
              "  <tbody>\n",
              "    <tr>\n",
              "      <th>0</th>\n",
              "      <td>03/01/2020 00:00</td>\n",
              "      <td>Descartado</td>\n",
              "      <td>Recuperado</td>\n",
              "      <td>4.0</td>\n",
              "      <td>M</td>\n",
              "      <td>NaN</td>\n",
              "      <td>NaN</td>\n",
              "      <td>NaN</td>\n",
              "      <td>TARUMA</td>\n",
              "    </tr>\n",
              "    <tr>\n",
              "      <th>1</th>\n",
              "      <td>03/01/2020 00:00</td>\n",
              "      <td>Descartado</td>\n",
              "      <td>Óbito</td>\n",
              "      <td>26.0</td>\n",
              "      <td>F</td>\n",
              "      <td>NaN</td>\n",
              "      <td>NaN</td>\n",
              "      <td>NaN</td>\n",
              "      <td>TARUMA-ACU</td>\n",
              "    </tr>\n",
              "    <tr>\n",
              "      <th>2</th>\n",
              "      <td>03/01/2020 00:00</td>\n",
              "      <td>Descartado</td>\n",
              "      <td>Óbito</td>\n",
              "      <td>27.0</td>\n",
              "      <td>M</td>\n",
              "      <td>NaN</td>\n",
              "      <td>NaN</td>\n",
              "      <td>NaN</td>\n",
              "      <td>JORGE TEIXEIRA</td>\n",
              "    </tr>\n",
              "    <tr>\n",
              "      <th>3</th>\n",
              "      <td>08/01/2020 00:00</td>\n",
              "      <td>Descartado</td>\n",
              "      <td>Óbito</td>\n",
              "      <td>94.0</td>\n",
              "      <td>M</td>\n",
              "      <td>NaN</td>\n",
              "      <td>NaN</td>\n",
              "      <td>NaN</td>\n",
              "      <td>FLORES</td>\n",
              "    </tr>\n",
              "    <tr>\n",
              "      <th>4</th>\n",
              "      <td>08/01/2020 00:00</td>\n",
              "      <td>Descartado</td>\n",
              "      <td>Recuperado</td>\n",
              "      <td>0.0</td>\n",
              "      <td>M</td>\n",
              "      <td>NaN</td>\n",
              "      <td>NaN</td>\n",
              "      <td>NaN</td>\n",
              "      <td>CIDADE DE DEUS</td>\n",
              "    </tr>\n",
              "    <tr>\n",
              "      <th>...</th>\n",
              "      <td>...</td>\n",
              "      <td>...</td>\n",
              "      <td>...</td>\n",
              "      <td>...</td>\n",
              "      <td>...</td>\n",
              "      <td>...</td>\n",
              "      <td>...</td>\n",
              "      <td>...</td>\n",
              "      <td>...</td>\n",
              "    </tr>\n",
              "    <tr>\n",
              "      <th>243978</th>\n",
              "      <td>20/04/2020 00:00</td>\n",
              "      <td>Descartado</td>\n",
              "      <td>Recuperado</td>\n",
              "      <td>84.0</td>\n",
              "      <td>F</td>\n",
              "      <td>NaN</td>\n",
              "      <td>NaN</td>\n",
              "      <td>1.0</td>\n",
              "      <td>SANTO ANTONIO</td>\n",
              "    </tr>\n",
              "    <tr>\n",
              "      <th>243979</th>\n",
              "      <td>20/04/2020 00:00</td>\n",
              "      <td>Confirmado</td>\n",
              "      <td>NaN</td>\n",
              "      <td>50.0</td>\n",
              "      <td>F</td>\n",
              "      <td>NaN</td>\n",
              "      <td>NaN</td>\n",
              "      <td>1.0</td>\n",
              "      <td>Adrianópolis</td>\n",
              "    </tr>\n",
              "    <tr>\n",
              "      <th>243980</th>\n",
              "      <td>20/04/2020 00:00</td>\n",
              "      <td>Descartado</td>\n",
              "      <td>Recuperado</td>\n",
              "      <td>63.0</td>\n",
              "      <td>M</td>\n",
              "      <td>NaN</td>\n",
              "      <td>NaN</td>\n",
              "      <td>1.0</td>\n",
              "      <td>Adrianópolis</td>\n",
              "    </tr>\n",
              "    <tr>\n",
              "      <th>243981</th>\n",
              "      <td>20/04/2020 00:00</td>\n",
              "      <td>Descartado</td>\n",
              "      <td>Recuperado</td>\n",
              "      <td>53.0</td>\n",
              "      <td>M</td>\n",
              "      <td>NaN</td>\n",
              "      <td>NaN</td>\n",
              "      <td>1.0</td>\n",
              "      <td>CIDADE NOVA</td>\n",
              "    </tr>\n",
              "    <tr>\n",
              "      <th>243982</th>\n",
              "      <td>22/04/2020 00:00</td>\n",
              "      <td>Confirmado</td>\n",
              "      <td>NaN</td>\n",
              "      <td>61.0</td>\n",
              "      <td>F</td>\n",
              "      <td>NaN</td>\n",
              "      <td>NaN</td>\n",
              "      <td>1.0</td>\n",
              "      <td>FLORES</td>\n",
              "    </tr>\n",
              "  </tbody>\n",
              "</table>\n",
              "<p>243983 rows × 9 columns</p>\n",
              "</div>"
            ],
            "text/plain": [
              "         _dt_notificacao _classificacao  ... _teste_pcr         _bairro\n",
              "0       03/01/2020 00:00     Descartado  ...        NaN          TARUMA\n",
              "1       03/01/2020 00:00     Descartado  ...        NaN      TARUMA-ACU\n",
              "2       03/01/2020 00:00     Descartado  ...        NaN  JORGE TEIXEIRA\n",
              "3       08/01/2020 00:00     Descartado  ...        NaN          FLORES\n",
              "4       08/01/2020 00:00     Descartado  ...        NaN  CIDADE DE DEUS\n",
              "...                  ...            ...  ...        ...             ...\n",
              "243978  20/04/2020 00:00     Descartado  ...        1.0   SANTO ANTONIO\n",
              "243979  20/04/2020 00:00     Confirmado  ...        1.0    Adrianópolis\n",
              "243980  20/04/2020 00:00     Descartado  ...        1.0    Adrianópolis\n",
              "243981  20/04/2020 00:00     Descartado  ...        1.0     CIDADE NOVA\n",
              "243982  22/04/2020 00:00     Confirmado  ...        1.0          FLORES\n",
              "\n",
              "[243983 rows x 9 columns]"
            ]
          },
          "metadata": {},
          "execution_count": 82
        }
      ]
    },
    {
      "cell_type": "markdown",
      "metadata": {
        "id": "f0GknlOQI30U"
      },
      "source": [
        "#### Renomeando as colunas"
      ]
    },
    {
      "cell_type": "code",
      "metadata": {
        "id": "Hzo9tO6zI5vx"
      },
      "source": [
        "df.rename(columns={'_dt_notificacao': 'dt_notificacao', '_classificacao': 'classificacao','_conclusao': 'conclusao', '_idade': 'idade','_faixa etária': 'faixa_etaria', '_sexo': 'sexo', '_bairro':'bairro','_taxa':'taxa','_teste_anticorpo':'teste_anticorpo','_teste_antigeno':'teste_antigeno',\t'_teste_pcr':'teste_pcr'}, inplace=True)"
      ],
      "execution_count": 83,
      "outputs": []
    },
    {
      "cell_type": "markdown",
      "metadata": {
        "id": "nIOuB2ZgI_mh"
      },
      "source": [
        "#### **Deletando as linhas**"
      ]
    },
    {
      "cell_type": "code",
      "metadata": {
        "id": "ciACQF0PI8Ts"
      },
      "source": [
        "df['teste_anticorpo'].fillna(0, inplace=True)\n",
        "df['teste_antigeno'].fillna(0, inplace=True)\n",
        "df['teste_pcr'].fillna(0, inplace=True)\n",
        "df = df.dropna()"
      ],
      "execution_count": 84,
      "outputs": []
    },
    {
      "cell_type": "code",
      "metadata": {
        "id": "qM-CHcq5JEka",
        "colab": {
          "base_uri": "https://localhost:8080/",
          "height": 419
        },
        "outputId": "c8172634-8ef5-44b6-b82a-12396ecf5b81"
      },
      "source": [
        "df.head(-1)"
      ],
      "execution_count": 85,
      "outputs": [
        {
          "output_type": "execute_result",
          "data": {
            "text/html": [
              "<div>\n",
              "<style scoped>\n",
              "    .dataframe tbody tr th:only-of-type {\n",
              "        vertical-align: middle;\n",
              "    }\n",
              "\n",
              "    .dataframe tbody tr th {\n",
              "        vertical-align: top;\n",
              "    }\n",
              "\n",
              "    .dataframe thead th {\n",
              "        text-align: right;\n",
              "    }\n",
              "</style>\n",
              "<table border=\"1\" class=\"dataframe\">\n",
              "  <thead>\n",
              "    <tr style=\"text-align: right;\">\n",
              "      <th></th>\n",
              "      <th>dt_notificacao</th>\n",
              "      <th>classificacao</th>\n",
              "      <th>conclusao</th>\n",
              "      <th>idade</th>\n",
              "      <th>sexo</th>\n",
              "      <th>teste_anticorpo</th>\n",
              "      <th>teste_antigeno</th>\n",
              "      <th>teste_pcr</th>\n",
              "      <th>bairro</th>\n",
              "    </tr>\n",
              "  </thead>\n",
              "  <tbody>\n",
              "    <tr>\n",
              "      <th>0</th>\n",
              "      <td>03/01/2020 00:00</td>\n",
              "      <td>Descartado</td>\n",
              "      <td>Recuperado</td>\n",
              "      <td>4.0</td>\n",
              "      <td>M</td>\n",
              "      <td>0.0</td>\n",
              "      <td>0.0</td>\n",
              "      <td>0.0</td>\n",
              "      <td>TARUMA</td>\n",
              "    </tr>\n",
              "    <tr>\n",
              "      <th>1</th>\n",
              "      <td>03/01/2020 00:00</td>\n",
              "      <td>Descartado</td>\n",
              "      <td>Óbito</td>\n",
              "      <td>26.0</td>\n",
              "      <td>F</td>\n",
              "      <td>0.0</td>\n",
              "      <td>0.0</td>\n",
              "      <td>0.0</td>\n",
              "      <td>TARUMA-ACU</td>\n",
              "    </tr>\n",
              "    <tr>\n",
              "      <th>2</th>\n",
              "      <td>03/01/2020 00:00</td>\n",
              "      <td>Descartado</td>\n",
              "      <td>Óbito</td>\n",
              "      <td>27.0</td>\n",
              "      <td>M</td>\n",
              "      <td>0.0</td>\n",
              "      <td>0.0</td>\n",
              "      <td>0.0</td>\n",
              "      <td>JORGE TEIXEIRA</td>\n",
              "    </tr>\n",
              "    <tr>\n",
              "      <th>3</th>\n",
              "      <td>08/01/2020 00:00</td>\n",
              "      <td>Descartado</td>\n",
              "      <td>Óbito</td>\n",
              "      <td>94.0</td>\n",
              "      <td>M</td>\n",
              "      <td>0.0</td>\n",
              "      <td>0.0</td>\n",
              "      <td>0.0</td>\n",
              "      <td>FLORES</td>\n",
              "    </tr>\n",
              "    <tr>\n",
              "      <th>4</th>\n",
              "      <td>08/01/2020 00:00</td>\n",
              "      <td>Descartado</td>\n",
              "      <td>Recuperado</td>\n",
              "      <td>0.0</td>\n",
              "      <td>M</td>\n",
              "      <td>0.0</td>\n",
              "      <td>0.0</td>\n",
              "      <td>0.0</td>\n",
              "      <td>CIDADE DE DEUS</td>\n",
              "    </tr>\n",
              "    <tr>\n",
              "      <th>...</th>\n",
              "      <td>...</td>\n",
              "      <td>...</td>\n",
              "      <td>...</td>\n",
              "      <td>...</td>\n",
              "      <td>...</td>\n",
              "      <td>...</td>\n",
              "      <td>...</td>\n",
              "      <td>...</td>\n",
              "      <td>...</td>\n",
              "    </tr>\n",
              "    <tr>\n",
              "      <th>243975</th>\n",
              "      <td>14/04/2020 00:00</td>\n",
              "      <td>Descartado</td>\n",
              "      <td>Recuperado</td>\n",
              "      <td>56.0</td>\n",
              "      <td>F</td>\n",
              "      <td>0.0</td>\n",
              "      <td>0.0</td>\n",
              "      <td>1.0</td>\n",
              "      <td>COMPENSA I</td>\n",
              "    </tr>\n",
              "    <tr>\n",
              "      <th>243976</th>\n",
              "      <td>14/04/2020 00:00</td>\n",
              "      <td>Descartado</td>\n",
              "      <td>Recuperado</td>\n",
              "      <td>77.0</td>\n",
              "      <td>M</td>\n",
              "      <td>0.0</td>\n",
              "      <td>0.0</td>\n",
              "      <td>1.0</td>\n",
              "      <td>EDUCANDOS</td>\n",
              "    </tr>\n",
              "    <tr>\n",
              "      <th>243978</th>\n",
              "      <td>20/04/2020 00:00</td>\n",
              "      <td>Descartado</td>\n",
              "      <td>Recuperado</td>\n",
              "      <td>84.0</td>\n",
              "      <td>F</td>\n",
              "      <td>0.0</td>\n",
              "      <td>0.0</td>\n",
              "      <td>1.0</td>\n",
              "      <td>SANTO ANTONIO</td>\n",
              "    </tr>\n",
              "    <tr>\n",
              "      <th>243980</th>\n",
              "      <td>20/04/2020 00:00</td>\n",
              "      <td>Descartado</td>\n",
              "      <td>Recuperado</td>\n",
              "      <td>63.0</td>\n",
              "      <td>M</td>\n",
              "      <td>0.0</td>\n",
              "      <td>0.0</td>\n",
              "      <td>1.0</td>\n",
              "      <td>Adrianópolis</td>\n",
              "    </tr>\n",
              "    <tr>\n",
              "      <th>243981</th>\n",
              "      <td>20/04/2020 00:00</td>\n",
              "      <td>Descartado</td>\n",
              "      <td>Recuperado</td>\n",
              "      <td>53.0</td>\n",
              "      <td>M</td>\n",
              "      <td>0.0</td>\n",
              "      <td>0.0</td>\n",
              "      <td>1.0</td>\n",
              "      <td>CIDADE NOVA</td>\n",
              "    </tr>\n",
              "  </tbody>\n",
              "</table>\n",
              "<p>179002 rows × 9 columns</p>\n",
              "</div>"
            ],
            "text/plain": [
              "          dt_notificacao classificacao  ... teste_pcr          bairro\n",
              "0       03/01/2020 00:00    Descartado  ...       0.0          TARUMA\n",
              "1       03/01/2020 00:00    Descartado  ...       0.0      TARUMA-ACU\n",
              "2       03/01/2020 00:00    Descartado  ...       0.0  JORGE TEIXEIRA\n",
              "3       08/01/2020 00:00    Descartado  ...       0.0          FLORES\n",
              "4       08/01/2020 00:00    Descartado  ...       0.0  CIDADE DE DEUS\n",
              "...                  ...           ...  ...       ...             ...\n",
              "243975  14/04/2020 00:00    Descartado  ...       1.0      COMPENSA I\n",
              "243976  14/04/2020 00:00    Descartado  ...       1.0       EDUCANDOS\n",
              "243978  20/04/2020 00:00    Descartado  ...       1.0   SANTO ANTONIO\n",
              "243980  20/04/2020 00:00    Descartado  ...       1.0    Adrianópolis\n",
              "243981  20/04/2020 00:00    Descartado  ...       1.0     CIDADE NOVA\n",
              "\n",
              "[179002 rows x 9 columns]"
            ]
          },
          "metadata": {},
          "execution_count": 85
        }
      ]
    },
    {
      "cell_type": "code",
      "metadata": {
        "id": "B0Adnnd4JQxJ",
        "colab": {
          "base_uri": "https://localhost:8080/"
        },
        "outputId": "e727b1da-852d-4c07-f98c-41136c099ed6"
      },
      "source": [
        "df.columns"
      ],
      "execution_count": 86,
      "outputs": [
        {
          "output_type": "execute_result",
          "data": {
            "text/plain": [
              "Index(['dt_notificacao', 'classificacao', 'conclusao', 'idade', 'sexo',\n",
              "       'teste_anticorpo', 'teste_antigeno', 'teste_pcr', 'bairro'],\n",
              "      dtype='object')"
            ]
          },
          "metadata": {},
          "execution_count": 86
        }
      ]
    },
    {
      "cell_type": "markdown",
      "metadata": {
        "id": "1l73IXj1JUL0"
      },
      "source": [
        "#### Remoção de acentos e caracteres especiais"
      ]
    },
    {
      "cell_type": "code",
      "metadata": {
        "id": "UYceqMerJVdq"
      },
      "source": [
        "def normalizar_palavra(a):\n",
        "    processamento_1 = unicodedata.normalize(\"NFD\", a)\n",
        "    processamento_2 = processamento_1.encode(\"ascii\", \"ignore\")\n",
        "    processamento_2 = processamento_2.decode(\"utf-8\")\n",
        "    a=processamento_2.upper()\n",
        "    return a"
      ],
      "execution_count": 87,
      "outputs": []
    },
    {
      "cell_type": "code",
      "metadata": {
        "id": "EkT73-waJYmz",
        "colab": {
          "base_uri": "https://localhost:8080/",
          "height": 419
        },
        "outputId": "a2f7d668-7b1f-4b0a-f902-ad484debead9"
      },
      "source": [
        "df.bairro = df.bairro.apply(normalizar_palavra)\n",
        "df.conclusao = df.conclusao.apply(normalizar_palavra)\n",
        "df.classificacao = df.classificacao.apply(normalizar_palavra)\n",
        "\n",
        "\n",
        "df.drop(df.loc[df['classificacao']=='DESCARTADO'].index, inplace=True)\n",
        "df.drop(df.loc[df['classificacao']=='EM ANALISE'].index, inplace=True)\n",
        "df.drop(df.loc[df['bairro']=='SEM DADOS'].index, inplace=True)\n",
        "\n",
        "df.head(-1)"
      ],
      "execution_count": 88,
      "outputs": [
        {
          "output_type": "execute_result",
          "data": {
            "text/html": [
              "<div>\n",
              "<style scoped>\n",
              "    .dataframe tbody tr th:only-of-type {\n",
              "        vertical-align: middle;\n",
              "    }\n",
              "\n",
              "    .dataframe tbody tr th {\n",
              "        vertical-align: top;\n",
              "    }\n",
              "\n",
              "    .dataframe thead th {\n",
              "        text-align: right;\n",
              "    }\n",
              "</style>\n",
              "<table border=\"1\" class=\"dataframe\">\n",
              "  <thead>\n",
              "    <tr style=\"text-align: right;\">\n",
              "      <th></th>\n",
              "      <th>dt_notificacao</th>\n",
              "      <th>classificacao</th>\n",
              "      <th>conclusao</th>\n",
              "      <th>idade</th>\n",
              "      <th>sexo</th>\n",
              "      <th>teste_anticorpo</th>\n",
              "      <th>teste_antigeno</th>\n",
              "      <th>teste_pcr</th>\n",
              "      <th>bairro</th>\n",
              "    </tr>\n",
              "  </thead>\n",
              "  <tbody>\n",
              "    <tr>\n",
              "      <th>130</th>\n",
              "      <td>23/02/2020 00:00</td>\n",
              "      <td>CONFIRMADO</td>\n",
              "      <td>RECUPERADO</td>\n",
              "      <td>12.0</td>\n",
              "      <td>F</td>\n",
              "      <td>0.0</td>\n",
              "      <td>0.0</td>\n",
              "      <td>1.0</td>\n",
              "      <td>MAUAZINHO</td>\n",
              "    </tr>\n",
              "    <tr>\n",
              "      <th>144</th>\n",
              "      <td>28/02/2020 00:00</td>\n",
              "      <td>CONFIRMADO</td>\n",
              "      <td>RECUPERADO</td>\n",
              "      <td>39.0</td>\n",
              "      <td>F</td>\n",
              "      <td>0.0</td>\n",
              "      <td>0.0</td>\n",
              "      <td>1.0</td>\n",
              "      <td>NOVO ALEIXO</td>\n",
              "    </tr>\n",
              "    <tr>\n",
              "      <th>153</th>\n",
              "      <td>02/03/2020 00:00</td>\n",
              "      <td>CONFIRMADO</td>\n",
              "      <td>RECUPERADO</td>\n",
              "      <td>2.0</td>\n",
              "      <td>F</td>\n",
              "      <td>1.0</td>\n",
              "      <td>0.0</td>\n",
              "      <td>0.0</td>\n",
              "      <td>PRACA 14 DE JANEIRO</td>\n",
              "    </tr>\n",
              "    <tr>\n",
              "      <th>158</th>\n",
              "      <td>02/03/2020 00:00</td>\n",
              "      <td>CONFIRMADO</td>\n",
              "      <td>RECUPERADO</td>\n",
              "      <td>71.0</td>\n",
              "      <td>F</td>\n",
              "      <td>2.0</td>\n",
              "      <td>0.0</td>\n",
              "      <td>0.0</td>\n",
              "      <td>FLORES</td>\n",
              "    </tr>\n",
              "    <tr>\n",
              "      <th>196</th>\n",
              "      <td>11/03/2020 00:00</td>\n",
              "      <td>CONFIRMADO</td>\n",
              "      <td>RECUPERADO</td>\n",
              "      <td>46.0</td>\n",
              "      <td>F</td>\n",
              "      <td>0.0</td>\n",
              "      <td>0.0</td>\n",
              "      <td>2.0</td>\n",
              "      <td>CIDADE NOVA</td>\n",
              "    </tr>\n",
              "    <tr>\n",
              "      <th>...</th>\n",
              "      <td>...</td>\n",
              "      <td>...</td>\n",
              "      <td>...</td>\n",
              "      <td>...</td>\n",
              "      <td>...</td>\n",
              "      <td>...</td>\n",
              "      <td>...</td>\n",
              "      <td>...</td>\n",
              "      <td>...</td>\n",
              "    </tr>\n",
              "    <tr>\n",
              "      <th>225147</th>\n",
              "      <td>14/10/2020 00:00</td>\n",
              "      <td>CONFIRMADO</td>\n",
              "      <td>RECUPERADO</td>\n",
              "      <td>39.0</td>\n",
              "      <td>F</td>\n",
              "      <td>5.0</td>\n",
              "      <td>0.0</td>\n",
              "      <td>1.0</td>\n",
              "      <td>LIRIO DO VALE</td>\n",
              "    </tr>\n",
              "    <tr>\n",
              "      <th>225148</th>\n",
              "      <td>14/10/2020 00:00</td>\n",
              "      <td>CONFIRMADO</td>\n",
              "      <td>RECUPERADO</td>\n",
              "      <td>42.0</td>\n",
              "      <td>F</td>\n",
              "      <td>2.0</td>\n",
              "      <td>0.0</td>\n",
              "      <td>0.0</td>\n",
              "      <td>CAMPOS SALES</td>\n",
              "    </tr>\n",
              "    <tr>\n",
              "      <th>225149</th>\n",
              "      <td>12/09/2020 00:00</td>\n",
              "      <td>CONFIRMADO</td>\n",
              "      <td>RECUPERADO</td>\n",
              "      <td>23.0</td>\n",
              "      <td>F</td>\n",
              "      <td>0.0</td>\n",
              "      <td>0.0</td>\n",
              "      <td>2.0</td>\n",
              "      <td>ALEIXO</td>\n",
              "    </tr>\n",
              "    <tr>\n",
              "      <th>225153</th>\n",
              "      <td>08/10/2020 00:00</td>\n",
              "      <td>CONFIRMADO</td>\n",
              "      <td>RECUPERADO</td>\n",
              "      <td>48.0</td>\n",
              "      <td>F</td>\n",
              "      <td>2.0</td>\n",
              "      <td>0.0</td>\n",
              "      <td>0.0</td>\n",
              "      <td>MORRO DA LIBERDADE</td>\n",
              "    </tr>\n",
              "    <tr>\n",
              "      <th>225159</th>\n",
              "      <td>27/11/2020 00:00</td>\n",
              "      <td>CONFIRMADO</td>\n",
              "      <td>RECUPERADO</td>\n",
              "      <td>55.0</td>\n",
              "      <td>M</td>\n",
              "      <td>5.0</td>\n",
              "      <td>0.0</td>\n",
              "      <td>2.0</td>\n",
              "      <td>FLORES</td>\n",
              "    </tr>\n",
              "  </tbody>\n",
              "</table>\n",
              "<p>42683 rows × 9 columns</p>\n",
              "</div>"
            ],
            "text/plain": [
              "          dt_notificacao classificacao  ... teste_pcr               bairro\n",
              "130     23/02/2020 00:00    CONFIRMADO  ...       1.0            MAUAZINHO\n",
              "144     28/02/2020 00:00    CONFIRMADO  ...       1.0          NOVO ALEIXO\n",
              "153     02/03/2020 00:00    CONFIRMADO  ...       0.0  PRACA 14 DE JANEIRO\n",
              "158     02/03/2020 00:00    CONFIRMADO  ...       0.0               FLORES\n",
              "196     11/03/2020 00:00    CONFIRMADO  ...       2.0          CIDADE NOVA\n",
              "...                  ...           ...  ...       ...                  ...\n",
              "225147  14/10/2020 00:00    CONFIRMADO  ...       1.0        LIRIO DO VALE\n",
              "225148  14/10/2020 00:00    CONFIRMADO  ...       0.0         CAMPOS SALES\n",
              "225149  12/09/2020 00:00    CONFIRMADO  ...       2.0               ALEIXO\n",
              "225153  08/10/2020 00:00    CONFIRMADO  ...       0.0   MORRO DA LIBERDADE\n",
              "225159  27/11/2020 00:00    CONFIRMADO  ...       2.0               FLORES\n",
              "\n",
              "[42683 rows x 9 columns]"
            ]
          },
          "metadata": {},
          "execution_count": 88
        }
      ]
    },
    {
      "cell_type": "markdown",
      "metadata": {
        "id": "-RqhWugJKUtB"
      },
      "source": [
        "### 1 - Quantos exemplos e atributos há na base de dados após a limpeza e organização?"
      ]
    },
    {
      "cell_type": "code",
      "metadata": {
        "id": "dGZ9m9xWKYGb",
        "colab": {
          "base_uri": "https://localhost:8080/"
        },
        "outputId": "7cb74b33-77ac-40b1-919c-ab2a40d713ba"
      },
      "source": [
        "print(list(df.columns))\n",
        "print(\"Quantidade de exemplos: {}\".format(len(df)))"
      ],
      "execution_count": 89,
      "outputs": [
        {
          "output_type": "stream",
          "name": "stdout",
          "text": [
            "['dt_notificacao', 'classificacao', 'conclusao', 'idade', 'sexo', 'teste_anticorpo', 'teste_antigeno', 'teste_pcr', 'bairro']\n",
            "Quantidade de exemplos: 42684\n"
          ]
        }
      ]
    },
    {
      "cell_type": "markdown",
      "metadata": {
        "id": "z3_oNo8DKdXv"
      },
      "source": [
        "## 2 - Qual a porcentagem de indivíduos recuperados em relação ao todo?"
      ]
    },
    {
      "cell_type": "code",
      "metadata": {
        "id": "LMn1DWRLKe7D",
        "colab": {
          "base_uri": "https://localhost:8080/"
        },
        "outputId": "62fdf7e0-3663-466f-a5d9-c972df4ecbcb"
      },
      "source": [
        "freq = df['conclusao'].value_counts()\n",
        "total_rows = len(df.index)\n",
        "porcentagem = freq[0]/total_rows\n",
        "print('Porcentagem de casos recuperados: {}%'.format(round(porcentagem*100, 1)))"
      ],
      "execution_count": 90,
      "outputs": [
        {
          "output_type": "stream",
          "name": "stdout",
          "text": [
            "Porcentagem de casos recuperados: 92.0%\n"
          ]
        }
      ]
    },
    {
      "cell_type": "markdown",
      "metadata": {
        "id": "wnGzY_HkKj9S"
      },
      "source": [
        "## 3 - Os casos acometeram mais indivíduos do sexo masculino ou feminino?"
      ]
    },
    {
      "cell_type": "code",
      "metadata": {
        "id": "_jr2u9NFK3JD",
        "colab": {
          "base_uri": "https://localhost:8080/"
        },
        "outputId": "52f8e9d2-92ef-46ea-c1ba-345268a64b74"
      },
      "source": [
        "sexo = df['sexo'].value_counts()\n",
        "print(\"Casos Femininos: {}\\nCasos Masculino: {}\\n\\nOs casos acometeram mais indivíduos do sexo feminimo.\".format(sexo[0], sexo[1]))"
      ],
      "execution_count": 91,
      "outputs": [
        {
          "output_type": "stream",
          "name": "stdout",
          "text": [
            "Casos Femininos: 22901\n",
            "Casos Masculino: 19783\n",
            "\n",
            "Os casos acometeram mais indivíduos do sexo feminimo.\n"
          ]
        }
      ]
    },
    {
      "cell_type": "markdown",
      "metadata": {
        "id": "h9yys2ccK4kL"
      },
      "source": [
        "## 4 - Qual a média e desvio padrão de idade dos indivíduos que contraíram COVID-19? Qual o indivíduo mais jovem e o mais idoso a contraírem tal enfermidade?"
      ]
    },
    {
      "cell_type": "code",
      "metadata": {
        "id": "RcliLbHeK-FA",
        "colab": {
          "base_uri": "https://localhost:8080/"
        },
        "outputId": "04455354-4d9d-4384-8b1f-60afc94a80d7"
      },
      "source": [
        "desv_padrao = df['idade'].std()\n",
        "media = df['idade'].mean()\n",
        "max = df['idade'].max()\n",
        "min = df['idade'].min()\n",
        "\n",
        "print('Desvio Padrão: {:.1f}\\nMédia: {:.1f}\\nMax: {:.0f}\\nMin: {:.0f}'.format(desv_padrao, media, max, min))"
      ],
      "execution_count": 92,
      "outputs": [
        {
          "output_type": "stream",
          "name": "stdout",
          "text": [
            "Desvio Padrão: 17.3\n",
            "Média: 43.4\n",
            "Max: 120\n",
            "Min: 0\n"
          ]
        }
      ]
    },
    {
      "cell_type": "markdown",
      "metadata": {
        "id": "ZtGiG-qCLrY7"
      },
      "source": [
        "## 5 - Qual o bairro com maior incidência de casos?"
      ]
    },
    {
      "cell_type": "markdown",
      "metadata": {
        "id": "DLNvvRyMLyjS"
      },
      "source": [
        "### Tratamento - Separando apenas casos confirmados"
      ]
    },
    {
      "cell_type": "code",
      "metadata": {
        "id": "x0nU9QV6Lxcq",
        "colab": {
          "base_uri": "https://localhost:8080/"
        },
        "outputId": "6068f0d4-5f88-47f2-fcac-5b745b241f6d"
      },
      "source": [
        "bairro = df['bairro'].value_counts()\n",
        "print(bairro)"
      ],
      "execution_count": 93,
      "outputs": [
        {
          "output_type": "stream",
          "name": "stdout",
          "text": [
            "SAO JOSE OPERARIO          2351\n",
            "JORGE TEIXEIRA             1986\n",
            "CIDADE NOVA                1820\n",
            "COMPENSA                   1817\n",
            "ALVORADA                   1814\n",
            "                           ... \n",
            "BAIRRO: JESUS ME DEU          1\n",
            "RIACHO FUNDO                  1\n",
            "RENATO SOUZA PINTO 2          1\n",
            "CONJUNTO HILEIA               1\n",
            "PARQUE  DEZ DE NOVEMBRO       1\n",
            "Name: bairro, Length: 1079, dtype: int64\n"
          ]
        }
      ]
    },
    {
      "cell_type": "markdown",
      "metadata": {
        "id": "3owqlJPaL8K_"
      },
      "source": [
        "## 6 - Quais os três bairros com maior incidência de casos recuperados?"
      ]
    },
    {
      "cell_type": "code",
      "metadata": {
        "id": "12m1STjeMCez",
        "colab": {
          "base_uri": "https://localhost:8080/"
        },
        "outputId": "969836bc-46e6-4b77-cf7d-f90073f9b36b"
      },
      "source": [
        "novo = df.groupby(['bairro'])['conclusao'].count().reset_index(name='Count').sort_values(['Count'], ascending=False)\n",
        "\n",
        "primeiro = novo.iloc[0]['bairro']\n",
        "segundo = novo.iloc[1]['bairro']\n",
        "terceiro = novo.iloc[2]['bairro']\n",
        "\n",
        "print('Os três bairros com maior incidência de casos recuperados são: {}, {} e {}'.format(primeiro,segundo,terceiro))"
      ],
      "execution_count": 94,
      "outputs": [
        {
          "output_type": "stream",
          "name": "stdout",
          "text": [
            "Os três bairros com maior incidência de casos recuperados são: SAO JOSE OPERARIO, JORGE TEIXEIRA e CIDADE NOVA\n"
          ]
        }
      ]
    },
    {
      "cell_type": "markdown",
      "metadata": {
        "id": "9-h2zISaMIG2"
      },
      "source": [
        "## 7 - Quais os tipos de testes efetuados, segundo os dados? Indique os dados de maneira quantitativa e percentual."
      ]
    },
    {
      "cell_type": "code",
      "metadata": {
        "id": "VjMaLfmFMMc0",
        "colab": {
          "base_uri": "https://localhost:8080/"
        },
        "outputId": "9651b45a-2675-4a37-e9ff-aa71538bcd91"
      },
      "source": [
        "def soma(n):\n",
        "  novaLista = []\n",
        "  for i in n:\n",
        "    if(i != 0.0):\n",
        "      novaLista.append(i)\n",
        "\n",
        "  print(\"Quantidade de pessoas que fizeram o teste: {}\".format(len(novaLista)))\n",
        "\n",
        "  porc_teste = len(novaLista)/len(n)\n",
        "\n",
        "  return round(porc_teste*100, 1)\n",
        "\n",
        "print(\"Quantidade de pessoas: {}\\n\".format(len(df)))\n",
        "print(\"Teste Antigeno: {}%\\n------\\n\".format(soma(df['teste_antigeno'])))\n",
        "print(\"Teste Anticorpo: {}%\\n------\\n\".format(soma(df['teste_anticorpo'])))\n",
        "print(\"Teste Pcr: {}%\\n------\\n\".format(soma(df['teste_pcr'])))"
      ],
      "execution_count": 95,
      "outputs": [
        {
          "output_type": "stream",
          "name": "stdout",
          "text": [
            "Quantidade de pessoas: 42684\n",
            "\n",
            "Quantidade de pessoas que fizeram o teste: 4181\n",
            "Teste Antigeno: 9.8%\n",
            "------\n",
            "\n",
            "Quantidade de pessoas que fizeram o teste: 26711\n",
            "Teste Anticorpo: 62.6%\n",
            "------\n",
            "\n",
            "Quantidade de pessoas que fizeram o teste: 12048\n",
            "Teste Pcr: 28.2%\n",
            "------\n",
            "\n"
          ]
        }
      ]
    },
    {
      "cell_type": "markdown",
      "metadata": {
        "id": "63N694oBMaMZ"
      },
      "source": [
        "## 8 - Qual taxa de letalidade pode ser calculada a partir do conjunto de dados? Para calcular esta taxa, considere a fração do total de óbitos pelo total de casos;"
      ]
    },
    {
      "cell_type": "code",
      "metadata": {
        "id": "Y9GraMnfMfKo",
        "colab": {
          "base_uri": "https://localhost:8080/"
        },
        "outputId": "a7024f6f-231c-425b-939b-04acbc94711a"
      },
      "source": [
        "qtdeObito = df['conclusao'].value_counts()\n",
        "taxaLetalidade = qtdeObito[1]/total_rows\n",
        "\n",
        "print('Porcentagem de Obitos: {}%'.format(round(taxaLetalidade*100, 1)))"
      ],
      "execution_count": 96,
      "outputs": [
        {
          "output_type": "stream",
          "name": "stdout",
          "text": [
            "Porcentagem de Obitos: 7.8%\n"
          ]
        }
      ]
    },
    {
      "cell_type": "markdown",
      "metadata": {
        "id": "pUcNADq4Dsu0"
      },
      "source": [
        "## 9 - Qual o tipo de correlação, mediante coeficiente de correlação de Pearson, entre a idade e o número de casos? Para responder a esta pergunte, agrupe o número de casos por idade e efetue o cálculo de tal coeficiente. Indique, a partir do resultado, a natureza desta correlação, se é positiva ou negativa, e qual sua intensidade."
      ]
    },
    {
      "cell_type": "code",
      "metadata": {
        "colab": {
          "base_uri": "https://localhost:8080/"
        },
        "id": "AkN9fqSIDujp",
        "outputId": "15a64ea3-7984-4871-a5e1-086014f9be85"
      },
      "source": [
        "pearson = df.groupby(['idade'])['classificacao'].count().reset_index(name='Count').sort_values(['Count'], ascending=False)\n",
        "print(pearson.corr())\n",
        "print('\\nVisto que a correlação é negativa, isso significa que as variáveis são inversamente relacionadas\\n')\n",
        "print('Sua intensidade é de -0.215287')"
      ],
      "execution_count": 97,
      "outputs": [
        {
          "output_type": "stream",
          "name": "stdout",
          "text": [
            "          idade     Count\n",
            "idade  1.000000 -0.355446\n",
            "Count -0.355446  1.000000\n",
            "\n",
            "Visto que a correlação é negativa, isso significa que as variáveis são inversamente relacionadas\n",
            "\n",
            "Sua intensidade é de -0.215287\n"
          ]
        }
      ]
    }
  ]
}